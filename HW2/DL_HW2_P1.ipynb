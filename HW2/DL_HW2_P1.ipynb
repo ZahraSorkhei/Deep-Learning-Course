{
  "cells": [
    {
      "cell_type": "markdown",
      "source": [
        "##**Libraries**##"
      ],
      "metadata": {
        "id": "0Vs5gUmoWpFX"
      }
    },
    {
      "cell_type": "code",
      "source": [
        "import numpy as np\n",
        "import pandas as pd\n",
        "import matplotlib.pyplot as plt\n",
        "import torch\n",
        "import torch.nn as nn\n",
        "from torch.autograd import Variable\n",
        "import torchvision\n",
        "import torchvision.transforms as transforms\n",
        "from torch.utils.data import Dataset, DataLoader\n",
        "from sklearn.metrics import confusion_matrix\n",
        "from sklearn.datasets import load_digits\n",
        "from sklearn.preprocessing import OneHotEncoder\n",
        "from sklearn.model_selection import train_test_split\n",
        "from sklearn.metrics import accuracy_score"
      ],
      "metadata": {
        "id": "bj5k04f5WqRE"
      },
      "execution_count": 102,
      "outputs": []
    },
    {
      "cell_type": "markdown",
      "source": [
        "##**Loading dataset and show some example**##"
      ],
      "metadata": {
        "id": "l84qmwc4W0pw"
      }
    },
    {
      "cell_type": "code",
      "execution_count": 101,
      "metadata": {
        "id": "f21MlHdtDfqj"
      },
      "outputs": [],
      "source": [
        "train_set = torchvision.datasets.FashionMNIST(\"./data\", download=True, transform=\n",
        "                                                transforms.Compose([transforms.ToTensor()]))\n",
        "test_set = torchvision.datasets.FashionMNIST(\"./data\", download=True, train=False, transform=\n",
        "                                               transforms.Compose([transforms.ToTensor()])) "
      ]
    },
    {
      "cell_type": "code",
      "execution_count": null,
      "metadata": {
        "colab": {
          "base_uri": "https://localhost:8080/"
        },
        "id": "n9Ezqahc23X1",
        "outputId": "0864ce97-285b-4194-e9cd-5b9f0fb669b5"
      },
      "outputs": [
        {
          "name": "stdout",
          "output_type": "stream",
          "text": [
            "Before reshape - X_train.shape: (60000, 28, 28)\n",
            "Before reshape - X_test.shape: (10000, 28, 28)\n",
            "After reshape - X_train.shape: (60000, 784)\n",
            "After reshape - X_test.shape: (10000, 784)\n",
            "Total number of classes: 10\n"
          ]
        }
      ],
      "source": [
        "import keras\n",
        "from keras.datasets import mnist\n",
        "from keras.utils import to_categorical, np_utils\n",
        "from keras.datasets import mnist\n",
        "import tensorflow as tf\n",
        "def load_data(keras_datasets, first_layer=\"dense\", channels=1, plot_images=False, class_names=[]):\n",
        "    (x_train, y_train), (x_test, y_test) = keras_datasets.load_data()\n",
        "    print('Before reshape - X_train.shape:', x_train.shape)\n",
        "    print('Before reshape - X_test.shape:', x_test.shape)\n",
        "    height=x_train.shape[1]\n",
        "    width=x_train.shape[2]        \n",
        "    # flatten 28*28 images to a 784 vector for each image\n",
        "    num_pixels = height * width\n",
        "\n",
        "    # convert shape of x_train from (60000, 28, 28) to (60000, 784) - 784 columns per row        \n",
        "    X_train = x_train.reshape((x_train.shape[0], num_pixels)).astype('float32')\n",
        "    X_test = x_test.reshape((x_test.shape[0], num_pixels)).astype('float32')        \n",
        "\n",
        "        \n",
        "    print('After reshape - X_train.shape:', X_train.shape)\n",
        "    print('After reshape - X_test.shape:', X_test.shape)\n",
        "    #print('Before rescaling:', X_train[0])\n",
        "    #normalize the values between 0 and 1\n",
        "    X_train = (X_train.astype(np.float32))/255\n",
        "    X_test = (X_test.astype(np.float32))/255\n",
        "    #print('After rescaling:', X_train[0])\n",
        "              \n",
        "    #convert labels to categorical/dummy encoding so that we can use simple \"categorical_crossentropy\" as loss.\n",
        "    #print('Class label of first image before converting to categorical:', y_train[0])\n",
        "    # one hot encode outputs\n",
        "    y_train = np_utils.to_categorical(y_train)\n",
        "    y_test = np_utils.to_categorical(y_test)\n",
        "    num_classes = y_test.shape[1]\n",
        "    print('Total number of classes:', num_classes)\n",
        "    #print('Class label of first image after converting to categorical:', y_train[0])\n",
        "              \n",
        "    return (X_train, y_train, X_test, y_test)\n",
        "NUM_CLASSES=10\n",
        "CLASS_NAMES = [\n",
        "    \"T-shirt/top\",\n",
        "    \"Trouser\",\n",
        "    \"Pullover\",\n",
        "    \"Dress\",\n",
        "    \"Coat\",\n",
        "    \"Sandal\",\n",
        "    \"Shirt\",\n",
        "    \"Sneaker\",\n",
        "    \"Bag\",\n",
        "    \"Ankle boot\"\n",
        "]\n",
        "X_train, y_train, X_test, y_test= load_data(tf.keras.datasets.fashion_mnist, first_layer=\"dense\", channels=1, plot_images=True, class_names=CLASS_NAMES)"
      ]
    },
    {
      "cell_type": "code",
      "execution_count": null,
      "metadata": {
        "colab": {
          "base_uri": "https://localhost:8080/"
        },
        "id": "y9lGfsMJ5IBf",
        "outputId": "e41c90dd-eb34-4660-91e4-952d899565c8"
      },
      "outputs": [
        {
          "name": "stdout",
          "output_type": "stream",
          "text": [
            "(60000, 784)\n",
            "(60000, 10)\n",
            "(10000, 784)\n",
            "(60000, 10)\n"
          ]
        }
      ],
      "source": [
        "print(X_train.shape)\n",
        "print(y_train.shape)\n",
        "print(X_test.shape)\n",
        "print(y_train.shape)"
      ]
    },
    {
      "cell_type": "code",
      "execution_count": 100,
      "metadata": {
        "colab": {
          "base_uri": "https://localhost:8080/",
          "height": 701
        },
        "id": "VRLWAl9JTlax",
        "outputId": "c4ece70e-71b2-4372-b05e-77ad56a8ebe4"
      },
      "outputs": [
        {
          "output_type": "display_data",
          "data": {
            "text/plain": [
              "<Figure size 1440x1080 with 10 Axes>"
            ],
            "image/png": "[encoded data removed]"
          },
          "metadata": {
            "needs_background": "light"
          }
        }
      ],
      "source": [
        "T_shirt_Top=[]\n",
        "Trouser=[]\n",
        "Pullover=[]\n",
        "Dress=[]\n",
        "Coat=[]\n",
        "Sandal=[]\n",
        "Shirt=[]\n",
        "Sneaker=[]\n",
        "Bag=[]\n",
        "Ankle_Boot=[]\n",
        "output_mapping = {\n",
        "                 0: T_shirt_Top,\n",
        "                 1: Trouser,\n",
        "                 2: Pullover,\n",
        "                 3: Dress,\n",
        "                 4: Coat, \n",
        "                 5: Sandal, \n",
        "                 6: Shirt,\n",
        "                 7: Sneaker,\n",
        "                 8: Bag,\n",
        "                 9: Ankle_Boot\n",
        "    }\n",
        "yy=np.argmax(y_train, axis=1)\n",
        "for i in range(len(X_train)):\n",
        "  image=X_train[i]\n",
        "  label=yy[i]\n",
        "  input = (label.item() if type(label) == torch.Tensor else label)\n",
        "  output_mapping[input].append(i)\n",
        "def name_label(label):\n",
        "    output_mapping = {\n",
        "                 0: \"T-shirt/Top\",\n",
        "                 1: \"Trouser\",\n",
        "                 2: \"Pullover\",\n",
        "                 3: \"Dress\",\n",
        "                 4: \"Coat\", \n",
        "                 5: \"Sandal\", \n",
        "                 6: \"Shirt\",\n",
        "                 7: \"Sneaker\",\n",
        "                 8: \"Bag\",\n",
        "                 9: \"Ankle Boot\"\n",
        "                 }\n",
        "    input = (label.item() if type(label) == torch.Tensor else label)\n",
        "    return output_mapping[input]\n",
        "fig = plt.figure(figsize=(20, 15))\n",
        "for i in range(len(output_mapping)):\n",
        "  fig.add_subplot(2,5, i+1)\n",
        "  num= np.random.choice(output_mapping[i], size=1)\n",
        "  image = X_train[num[0]].reshape(28,28)\n",
        "  plt.imshow(image.squeeze(), cmap=\"gray\")\n",
        "  plt.title(name_label(i))"
      ]
    },
    {
      "cell_type": "markdown",
      "source": [
        "##**Multilayer perceptron network**##"
      ],
      "metadata": {
        "id": "HtBpZKEYXA3K"
      }
    },
    {
      "cell_type": "code",
      "execution_count": null,
      "metadata": {
        "id": "dkEihgVvSz6f"
      },
      "outputs": [],
      "source": [
        "class MLP:\n",
        "    def __init__(self, n_i, n_h, n_o, activation='sigmoid', max_epochs=5000,\n",
        "                 learning_rate=0.1, verbose=2):\n",
        "        \"\"\" Initialize the whole network\n",
        "        :param n_i: The number of units in the input layer\n",
        "        :param n_h: The number of units in the hidden layer\n",
        "        :param n_o: The number of units in the output layer\n",
        "        :param activation: The activation function for activating the weights and inputs\n",
        "        :param max_epochs: The maximum iterations to training the MLP, to adjust weights\n",
        "        :param learning_rate: Indicating how much the delta on weights would be accepted\n",
        "        :param verbose: How much details should be printed during the training\n",
        "        \"\"\"\n",
        "\n",
        "        self.n_i = n_i\n",
        "        self.n_h = n_h\n",
        "        self.n_o = n_o\n",
        "        self.max_epochs = max_epochs\n",
        "        self.learning_rate = learning_rate\n",
        "        self.verbose = np.power(10, verbose-1)\n",
        "        # Initialize the activation function and its derivative functions\n",
        "        self.activation, self.d_activation = \\\n",
        "            self.__initialize_activation_func(activation)\n",
        "\n",
        "        # Initialize the loss function\n",
        "        self.__initialize_loss_func()\n",
        "\n",
        "        # Initialize the units to hold activation results\n",
        "        self.input = np.ones(self.n_i + 1)  # 1 for bias\n",
        "        self.h = np.ones(self.n_h)\n",
        "        self.o = np.ones(self.n_o)\n",
        "\n",
        "        # Initialize the weights of the lower layer and the upper layer\n",
        "        self.W1, self.W2 = self.__initialize_weights()\n",
        "\n",
        "    def __initialize_activation_func(self, activation):\n",
        "        \"\"\" Initialize the activation function and its derivative function\n",
        "        :param activation: The symbol of activation, taking a string\n",
        "        :return: The assigned activation function and its derivative\n",
        "        \"\"\"\n",
        "        # Temporarily using tanh - a rescaled logistic sigmoid function\n",
        "        return tanh, d_tanh\n",
        "\n",
        "    def __initialize_loss_func(self):\n",
        "        \"\"\" Initialize the loss function\n",
        "        - when n_o > 1, classification should apply cross entropy\n",
        "        - when n_o = 1, like a regression problem, should use squared error\n",
        "        :return: None\n",
        "        \"\"\"\n",
        "        self.loss_func = cross_entropy\n",
        "\n",
        "    def __initialize_weights(self):\n",
        "        \"\"\" Randomly initialize weights between -1 and 1\n",
        "                for the lower layer and the upper layer\n",
        "        :return: The initialized weights\n",
        "        \"\"\"\n",
        "        w1 = np.random.uniform(-0.2, 0.2, (self.input.size, self.h.size))\n",
        "        w2 = np.random.uniform(-0.2, 0.2, (self.h.size, self.o.size))\n",
        "        return w1, w2\n",
        "\n",
        "    def __forwards(self, inputs):\n",
        "        \"\"\" Propagate the inputs forward from the input layer\n",
        "                to the output layer\n",
        "        :param inputs: The training example\n",
        "        :return: The output on output units\n",
        "        \"\"\"\n",
        "\n",
        "        # In the input layer, the last one is 1 for bias\n",
        "        self.input[:-1] = inputs\n",
        "        # Activate the hidden layer\n",
        "        self.h = self.activation(np.dot(self.input, self.W1))\n",
        "        self.o = softmax(np.dot(self.h, self.W2))\n",
        "\n",
        "        return self.o\n",
        "\n",
        "    def __backwards(self, expected):\n",
        "        \"\"\" The core training technique.\n",
        "                Propagate the error signal back to each layer,\n",
        "                and adjust the weights\n",
        "        :param expected: The expected outputs for calculating the error\n",
        "        :return: None\n",
        "        \"\"\"\n",
        "\n",
        "        # The error on the output layer\n",
        "        error = expected - self.o\n",
        "        # Computing the delta activation of the output layer\n",
        "        dz2 = error * d_softmax(self.o, softmax)\n",
        "        # Computing the delta activation of the hidden layer\n",
        "        dz1 = np.dot(dz2, self.W2.T) * self.d_activation(self.h)\n",
        "\n",
        "        # Update the weights\n",
        "        self.__update_weights(dz1, dz2)\n",
        "\n",
        "    def __update_weights(self, dz1, dz2):\n",
        "        \"\"\" Update weights on the lower layer and the upper layer\n",
        "        :param dz1: The delta on the hidden layer\n",
        "        :param dz2: The delta on the output layer\n",
        "        :return: None\n",
        "        \"\"\"\n",
        "        dw1 = np.dot(np.atleast_2d(self.input).T, np.atleast_2d(dz1))\n",
        "        self.W1 += self.learning_rate * dw1\n",
        "        dw2 = np.dot(np.atleast_2d(self.h).T, np.atleast_2d(dz2))\n",
        "        self.W2 += self.learning_rate * dw2\n",
        "\n",
        "    def fit(self, X, y,X_test,y_test):\n",
        "        \"\"\" Training the MLP network by the training set\n",
        "        Adjust the weights by iterate the training set max-epoch times\n",
        "        :param X: The features of the training set\n",
        "        :param y: The labels/Outputs of the training set\n",
        "        :return: self\n",
        "        \"\"\"\n",
        "        for e in range(1, self.max_epochs):\n",
        "            loss = 0.\n",
        "            for j, row in enumerate(X):\n",
        "                # feed-forward the inputs to the output layer\n",
        "                o = self.__forwards(row)\n",
        "                # Accumulate the error of each example computed\n",
        "                #   by the loss function to get the total loss\n",
        "                loss += self.loss_func(o, y[j])\n",
        "                # Back-propagate the error signal computed\n",
        "                #   according to the given expected output\n",
        "                self.__backwards(y[j])\n",
        "\n",
        "            # Print details during training\n",
        "            if self.n_o > 1:\n",
        "                # Classification\n",
        "                # Predict the training set and print the current accuracy\n",
        "                pre = self.predict(X)\n",
        "                acc = 0.\n",
        "                for k, _ in enumerate(y):\n",
        "                    if pre[k] == np.argmax(y[k]):\n",
        "                        acc += 1\n",
        "                prediction_test = self.predict(X_test)\n",
        "                acc_test=0\n",
        "                for k, _ in enumerate(y_test):\n",
        "                    if prediction_test[k] == np.argmax(y_test, axis=1)[k]:\n",
        "                        acc_test += 1\n",
        "                \n",
        "                if e % self.verbose == 0:\n",
        "                    print('epoch %d | cost : %.3f | accuracy of traning : %.3f | accuracy for testing: %.3f' %\n",
        "                          (e, loss/len(X), acc/len(X),acc_test/len(prediction_test))) \n",
        "                    \n",
        "            else:\n",
        "                if e % self.verbose == 0:\n",
        "                    # Regression - print the cost (average loss on training dataset)\n",
        "                    print('epoch %d | cost : %.3f' % (e, loss/(len(X))))\n",
        "\n",
        "        return self\n",
        "\n",
        "    def predict(self, X):\n",
        "        \"\"\" Predict on the test set\n",
        "        :param X: The unseen features of the test set\n",
        "        :return: The predicted output for each example in the test set\n",
        "        \"\"\"\n",
        "        y = list()\n",
        "        for j, row in enumerate(X):\n",
        "                # Classification - using one hot encoding,\n",
        "                #   so find the index of output units with the max output\n",
        "                y.append(np.argmax(self.__forwards(row)))\n",
        "        return np.array(y)\n",
        "\n",
        "\n",
        "# Definitions of sigmoid, derivatives, SoftMax, and loss functions\n",
        "def tanh(x):\n",
        "    \"\"\" The rescaled logistic sigmoid function\n",
        "    :param x: The input needs to be activated\n",
        "    :return: corresponding tanh value with the input x\n",
        "    \"\"\"\n",
        "    return np.tanh(x)\n",
        "\n",
        "\n",
        "def d_tanh(x):\n",
        "    \"\"\" The derivative of the tanh activation function\n",
        "    :param x: The input value\n",
        "    :return: The derivative\n",
        "    \"\"\"\n",
        "    return 1.0 - x**2\n",
        "\n",
        "\n",
        "def softmax(x):\n",
        "    \"\"\" Compute the SoftMax of vector x in a numerically stable way,\n",
        "            since numpy's exp would lead to infinite (nan)\n",
        "    :param x: In Classification, the inputs on the output units need to be activated\n",
        "    :return: The probabilities on each output unit. The sum should be 1.\n",
        "    \"\"\"\n",
        "    shiftx = x - np.max(x)\n",
        "    exps = np.exp(shiftx)\n",
        "    return exps / np.sum(exps)\n",
        "\n",
        "\n",
        "def d_softmax(o, f):\n",
        "    \"\"\" The derivative of SoftMax with respect to the output\n",
        "    :param o: The output\n",
        "    :param f: The activation function of the output layer - SoftMax in classification\n",
        "    :return: The derivative\n",
        "    \"\"\"\n",
        "    return f(o) * (1 - f(o))\n",
        "\n",
        "\n",
        "def cross_entropy(o, y):\n",
        "    \"\"\" Cross entropy loss function\n",
        "    :param o: The output\n",
        "    :param y: The expected output\n",
        "    :return: The cross entropy - the loss\n",
        "    \"\"\"\n",
        "    return np.sum(np.nan_to_num(-y * np.log(o) - (1-y) * np.log(1-o)))\n",
        "\n",
        "\n",
        "def squared_error(o, y):\n",
        "    \"\"\" Squared error loss function\n",
        "    :param o: The output\n",
        "    :param y: The expected output\n",
        "    :return: The square error - the loss\n",
        "    \"\"\"\n",
        "    return 0.5 * ((y-o) ** 2).sum()\n"
      ]
    },
    {
      "cell_type": "markdown",
      "source": [
        "##**Define model**##"
      ],
      "metadata": {
        "id": "LQ5NQz-sXOOh"
      }
    },
    {
      "cell_type": "code",
      "execution_count": null,
      "metadata": {
        "id": "_CvJ8umyzpMK"
      },
      "outputs": [],
      "source": [
        "\n",
        "mlp = MLP(X_train.shape[1], 30, y_train.shape[1], learning_rate=0.1, max_epochs=10, verbose=1)"
      ]
    },
    {
      "cell_type": "markdown",
      "source": [
        "##**Train model**##"
      ],
      "metadata": {
        "id": "0kWTpQsgXTCZ"
      }
    },
    {
      "cell_type": "code",
      "execution_count": null,
      "metadata": {
        "colab": {
          "base_uri": "https://localhost:8080/"
        },
        "id": "d8e_Cq3i0U26",
        "outputId": "394a26cd-74c4-490c-af96-b1237e7046fe"
      },
      "outputs": [
        {
          "name": "stdout",
          "output_type": "stream",
          "text": [
            "epoch 1 | cost : 0.920 | accuracy of traning : 0.845 | accuracy for testing: 0.830\n",
            "epoch 2 | cost : 0.753 | accuracy of traning : 0.853 | accuracy for testing: 0.838\n",
            "epoch 3 | cost : 0.714 | accuracy of traning : 0.855 | accuracy for testing: 0.837\n",
            "epoch 4 | cost : 0.697 | accuracy of traning : 0.864 | accuracy for testing: 0.849\n",
            "epoch 5 | cost : 0.683 | accuracy of traning : 0.862 | accuracy for testing: 0.842\n",
            "epoch 6 | cost : 0.681 | accuracy of traning : 0.863 | accuracy for testing: 0.840\n",
            "epoch 7 | cost : 0.693 | accuracy of traning : 0.863 | accuracy for testing: 0.846\n",
            "epoch 8 | cost : 0.702 | accuracy of traning : 0.859 | accuracy for testing: 0.840\n",
            "epoch 9 | cost : 0.696 | accuracy of traning : 0.864 | accuracy for testing: 0.846\n"
          ]
        },
        {
          "data": {
            "text/plain": [
              "<__main__.MLP at 0x7fb02e1f3730>"
            ]
          },
          "execution_count": 67,
          "metadata": {},
          "output_type": "execute_result"
        }
      ],
      "source": [
        "mlp.fit(X_train, y_train,X_test,y_test)"
      ]
    },
    {
      "cell_type": "markdown",
      "source": [
        "##**Test model**##"
      ],
      "metadata": {
        "id": "iZq7onEUXZUE"
      }
    },
    {
      "cell_type": "code",
      "execution_count": null,
      "metadata": {
        "colab": {
          "base_uri": "https://localhost:8080/"
        },
        "id": "TyQ8sHEA7LXG",
        "outputId": "ddcb4c73-596b-4d02-ddef-b6236c6ba1d5"
      },
      "outputs": [
        {
          "name": "stdout",
          "output_type": "stream",
          "text": [
            "0.8455\n"
          ]
        }
      ],
      "source": [
        "prediction = mlp.predict(X_test)\n",
        "acc=0\n",
        "for k, _ in enumerate(y_test):\n",
        "  if prediction[k] == np.argmax(y_test, axis=1)[k]:\n",
        "    acc += 1\n",
        "print(acc/len(prediction))"
      ]
    },
    {
      "cell_type": "code",
      "execution_count": null,
      "metadata": {
        "colab": {
          "base_uri": "https://localhost:8080/",
          "height": 701
        },
        "id": "1A5IhEswKfnO",
        "outputId": "cc9099b4-a137-4eaf-9986-9f5056340813"
      },
      "outputs": [
        {
          "data": {
            "image/png": "[encoded data removed]",
            "text/plain": [
              "<Figure size 1440x1080 with 10 Axes>"
            ]
          },
          "metadata": {},
          "output_type": "display_data"
        }
      ],
      "source": [
        "T_shirt_Top=[]\n",
        "Trouser=[]\n",
        "Pullover=[]\n",
        "Dress=[]\n",
        "Coat=[]\n",
        "Sandal=[]\n",
        "Shirt=[]\n",
        "Sneaker=[]\n",
        "Bag=[]\n",
        "Ankle_Boot=[]\n",
        "output_mapping = {\n",
        "                 0: T_shirt_Top,\n",
        "                 1: Trouser,\n",
        "                 2: Pullover,\n",
        "                 3: Dress,\n",
        "                 4: Coat, \n",
        "                 5: Sandal, \n",
        "                 6: Shirt,\n",
        "                 7: Sneaker,\n",
        "                 8: Bag,\n",
        "                 9: Ankle_Boot\n",
        "    }\n",
        "\n",
        "for i in range(len(X_test)):\n",
        "  image=X_test[i]\n",
        "  label=np.argmax(y_test, axis=1)[i]\n",
        "  input = (label.item() if type(label) == torch.Tensor else label)\n",
        "  output_mapping[input].append(i)\n",
        "def name_label(label):\n",
        "    output_mapping = {\n",
        "                 0: \"T-shirt/Top\",\n",
        "                 1: \"Trouser\",\n",
        "                 2: \"Pullover\",\n",
        "                 3: \"Dress\",\n",
        "                 4: \"Coat\", \n",
        "                 5: \"Sandal\", \n",
        "                 6: \"Shirt\",\n",
        "                 7: \"Sneaker\",\n",
        "                 8: \"Bag\",\n",
        "                 9: \"Ankle Boot\"\n",
        "                 }\n",
        "    input = (label.item() if type(label) == torch.Tensor else label)\n",
        "    return output_mapping[input]\n",
        "fig = plt.figure(figsize=(20, 15))\n",
        "for i in range(len(output_mapping)):\n",
        "  fig.add_subplot(2,5, i+1)\n",
        "  num= np.random.choice(output_mapping[i], size=1)\n",
        "  image = X_test[num[0]].reshape(28,28)\n",
        "  plt.imshow(image.squeeze(), cmap=\"gray\")\n",
        "  plt.title(name_label(i)+\" --> \"+name_label(prediction[num[0]]))"
      ]
    }
  ],
  "metadata": {
    "accelerator": "GPU",
    "colab": {
      "provenance": []
    },
    "gpuClass": "standard",
    "kernelspec": {
      "display_name": "Python 3",
      "name": "python3"
    },
    "language_info": {
      "name": "python"
    }
  },
  "nbformat": 4,
  "nbformat_minor": 0
}