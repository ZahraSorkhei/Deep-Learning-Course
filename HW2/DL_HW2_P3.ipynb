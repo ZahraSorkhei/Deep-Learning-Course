{
  "nbformat": 4,
  "nbformat_minor": 0,
  "metadata": {
    "colab": {
      "provenance": []
    },
    "kernelspec": {
      "name": "python3",
      "display_name": "Python 3"
    },
    "language_info": {
      "name": "python"
    }
  },
  "cells": [
    {
      "cell_type": "code",
      "source": [
        "from google.colab import drive\n",
        "drive.mount('/content/drive')\n",
        "%cd /content/drive/MyDrive/HW2-DL"
      ],
      "metadata": {
        "colab": {
          "base_uri": "https://localhost:8080/"
        },
        "id": "P7C2L7NrvFIx",
        "outputId": "d6c6319e-c456-47f1-b4ec-5d31453d4e84"
      },
      "execution_count": null,
      "outputs": [
        {
          "output_type": "stream",
          "name": "stdout",
          "text": [
            "Drive already mounted at /content/drive; to attempt to forcibly remount, call drive.mount(\"/content/drive\", force_remount=True).\n",
            "/content/drive/MyDrive/HW2-DL\n"
          ]
        }
      ]
    },
    {
      "cell_type": "markdown",
      "source": [
        "##**Libraries**"
      ],
      "metadata": {
        "id": "dUghx7f04542"
      }
    },
    {
      "cell_type": "code",
      "source": [
        "import tensorflow as tf\n",
        "import pandas as pd\n",
        "import numpy as np\n",
        "from matplotlib import pyplot as plt\n",
        "from sklearn import preprocessing\n",
        "from datetime import datetime\n",
        "from math import isnan, floor\n",
        "from imblearn.over_sampling import SMOTE\n",
        "from collections import Counter\n",
        "import random\n",
        "from sklearn.model_selection import KFold, cross_val_score, train_test_split\n",
        "from tensorflow.keras.models import Sequential\n",
        "from tensorflow.keras.layers import Flatten\n",
        "from tensorflow.keras.layers import Dense\n",
        "from tensorflow.keras.layers import Activation\n",
        "from tensorflow.keras.layers import Dropout\n",
        "import matplotlib.pyplot as plt"
      ],
      "metadata": {
        "id": "-JIa0YlDzwuG"
      },
      "execution_count": null,
      "outputs": []
    },
    {
      "cell_type": "markdown",
      "source": [
        "*Loading Data*"
      ],
      "metadata": {
        "id": "7Ce5rEbB5XPk"
      }
    },
    {
      "cell_type": "code",
      "source": [
        "train_df = pd.read_csv(\"./Data/HW2_data/Q3_train.csv\") \n",
        "test_df = pd.read_csv(\"./Data/HW2_data/Q3_test.csv\") "
      ],
      "metadata": {
        "id": "ouoKmgbDz0Oq"
      },
      "execution_count": null,
      "outputs": []
    },
    {
      "cell_type": "code",
      "source": [
        "train_df  = train_df.dropna()\n",
        "test_df = test_df.dropna()"
      ],
      "metadata": {
        "id": "CXY9j3gp-VCU"
      },
      "execution_count": null,
      "outputs": []
    },
    {
      "cell_type": "markdown",
      "source": [
        "*Data Frame to Numpy Array*"
      ],
      "metadata": {
        "id": "wSsmNfSA5exB"
      }
    },
    {
      "cell_type": "code",
      "source": [
        "def dataframe_to_nparray(train_df, test_df):\n",
        "    train_df1 = train_df.copy(deep = True)\n",
        "    test_df1 = test_df.copy(deep = True)\n",
        "    train_images = train_df1.iloc[:, 1:].to_numpy(dtype = 'float32')\n",
        "    test_images = test_df1.iloc[:, 1:].to_numpy(dtype = 'float32')\n",
        "    return train_images,test_images"
      ],
      "metadata": {
        "id": "4vwZncRH1y3I"
      },
      "execution_count": null,
      "outputs": []
    },
    {
      "cell_type": "code",
      "source": [
        "train_img, test_img = dataframe_to_nparray(train_df, test_df)\n",
        "train_labels = train_df['label'].values\n",
        "test_labels = test_df['label'].values"
      ],
      "metadata": {
        "id": "TjBDyobw15Vx"
      },
      "execution_count": null,
      "outputs": []
    },
    {
      "cell_type": "markdown",
      "source": [
        "##**PREPROCESSING**"
      ],
      "metadata": {
        "id": "G-Nnd2cQMXqN"
      }
    },
    {
      "cell_type": "markdown",
      "source": [
        "*Normalization*"
      ],
      "metadata": {
        "id": "a_WZON-xMqLu"
      }
    },
    {
      "cell_type": "code",
      "source": [
        "train_img =  preprocessing.scale(train_img )\n",
        "test_img =preprocessing.scale(test_img )"
      ],
      "metadata": {
        "colab": {
          "base_uri": "https://localhost:8080/"
        },
        "id": "KoL_dPDM6scY",
        "outputId": "f5376488-3e6d-4594-e664-0b4f52f249af"
      },
      "execution_count": null,
      "outputs": [
        {
          "output_type": "stream",
          "name": "stderr",
          "text": [
            "/usr/local/lib/python3.8/dist-packages/sklearn/preprocessing/_data.py:235: UserWarning: Numerical issues were encountered when centering the data and might not be solved. Dataset may contain too large values. You may need to prescale your features.\n",
            "  warnings.warn(\n",
            "/usr/local/lib/python3.8/dist-packages/sklearn/preprocessing/_data.py:254: UserWarning: Numerical issues were encountered when scaling the data and might not be solved. The standard deviation of the data is probably very close to 0. \n",
            "  warnings.warn(\n",
            "/usr/local/lib/python3.8/dist-packages/sklearn/preprocessing/_data.py:235: UserWarning: Numerical issues were encountered when centering the data and might not be solved. Dataset may contain too large values. You may need to prescale your features.\n",
            "  warnings.warn(\n",
            "/usr/local/lib/python3.8/dist-packages/sklearn/preprocessing/_data.py:254: UserWarning: Numerical issues were encountered when scaling the data and might not be solved. The standard deviation of the data is probably very close to 0. \n",
            "  warnings.warn(\n"
          ]
        }
      ]
    },
    {
      "cell_type": "markdown",
      "source": [
        "*Balance* *Dataset*"
      ],
      "metadata": {
        "id": "sF8aFLTqMfZu"
      }
    },
    {
      "cell_type": "code",
      "source": [
        "over_sampler = SMOTE(k_neighbors=2)\n",
        "X_res, y_res = over_sampler.fit_resample(train_img, train_labels)\n",
        "print(f\"Training target statistics: {Counter(y_res)}\")\n"
      ],
      "metadata": {
        "colab": {
          "base_uri": "https://localhost:8080/"
        },
        "id": "oCDp4PlHBYwW",
        "outputId": "13c56bef-a433-43ef-c591-363ea8efa1c6"
      },
      "execution_count": null,
      "outputs": [
        {
          "output_type": "stream",
          "name": "stdout",
          "text": [
            "Training target statistics: Counter({3: 1294, 6: 1294, 2: 1294, 13: 1294, 16: 1294, 8: 1294, 22: 1294, 18: 1294, 10: 1294, 20: 1294, 17: 1294, 19: 1294, 21: 1294, 23: 1294, 24: 1294, 1: 1294, 12: 1294, 11: 1294, 15: 1294, 4: 1294, 0: 1294, 5: 1294, 7: 1294, 14: 1294})\n"
          ]
        }
      ]
    },
    {
      "cell_type": "markdown",
      "source": [
        "*Show Some Sample*"
      ],
      "metadata": {
        "id": "L7-05R752EIX"
      }
    },
    {
      "cell_type": "code",
      "source": [
        "nums = random.sample(range(0, X_res.shape[0]-1), 9)\n",
        "fig = plt.figure(figsize=(15, 10))\n",
        "for i in range(9):\n",
        "  fig.add_subplot(3, 3, i+1)\n",
        "  img=X_res[nums[i],:]\n",
        "  plt.imshow(img.reshape(28, 28),cmap = 'gray')\n",
        "  plt.title(chr(y_res[nums[i]]+65))\n"
      ],
      "metadata": {
        "colab": {
          "base_uri": "https://localhost:8080/",
          "height": 607
        },
        "id": "wFuB1F2hEjE7",
        "outputId": "0d98c521-04f8-4016-8370-98b4357dee3b"
      },
      "execution_count": null,
      "outputs": [
        {
          "output_type": "display_data",
          "data": {
            "text/plain": [
              "<Figure size 1080x720 with 9 Axes>"
            ],
            "image/png": "[encoded data removed]"
          },
          "metadata": {
            "needs_background": "light"
          }
        }
      ]
    },
    {
      "cell_type": "markdown",
      "source": [
        "##**Split Train and Validation**"
      ],
      "metadata": {
        "id": "bCDRrA57BZDJ"
      }
    },
    {
      "cell_type": "code",
      "source": [
        "X_train, X_val, y_train, y_val = train_test_split(X_res, y_res, test_size=0.2, random_state=42)"
      ],
      "metadata": {
        "id": "ZPxeF9sxOd-q"
      },
      "execution_count": null,
      "outputs": []
    },
    {
      "cell_type": "markdown",
      "source": [
        "##**Training and Testing**"
      ],
      "metadata": {
        "id": "WWQ3Q2or9awm"
      }
    },
    {
      "cell_type": "markdown",
      "source": [
        "*With ADAM Optimizer and Without Dropout*"
      ],
      "metadata": {
        "id": "qXNZnudf99z_"
      }
    },
    {
      "cell_type": "code",
      "source": [
        "\n",
        "model = Sequential([\n",
        "    \n",
        "    \n",
        "    # dense layer 1\n",
        "    Dense( X_res.shape[1], activation='relu'),  \n",
        "    \n",
        "    # dense layer 2\n",
        "    Dense(128, activation='relu'), \n",
        "    \n",
        "      # output layer\n",
        "    Dense(25, activation='sigmoid'),  \n",
        "])"
      ],
      "metadata": {
        "id": "lO-OeJvwTzir"
      },
      "execution_count": null,
      "outputs": []
    },
    {
      "cell_type": "code",
      "source": [
        "\n",
        "model.compile(optimizer='adam',\n",
        "              loss='sparse_categorical_crossentropy',\n",
        "              metrics=['accuracy'])"
      ],
      "metadata": {
        "id": "lZJG75Z2UQn_"
      },
      "execution_count": null,
      "outputs": []
    },
    {
      "cell_type": "code",
      "source": [
        "logdir='logs'\n",
        "tensorboard_callback = tf.keras.callbacks.TensorBoard(log_dir=logdir)\n",
        "hist=model.fit(X_res, y_res, epochs=10, \n",
        "          batch_size=2000, \n",
        "          validation_split=0.2)"
      ],
      "metadata": {
        "colab": {
          "base_uri": "https://localhost:8080/"
        },
        "id": "nYGSv1-XUTVJ",
        "outputId": "04d85b9a-1415-4469-e765-acefeb6c034f"
      },
      "execution_count": null,
      "outputs": [
        {
          "output_type": "stream",
          "name": "stdout",
          "text": [
            "Epoch 1/10\n",
            "13/13 [==============================] - 2s 115ms/step - loss: 1.8370 - accuracy: 0.5070 - val_loss: 0.6938 - val_accuracy: 0.8339\n",
            "Epoch 2/10\n",
            "13/13 [==============================] - 1s 103ms/step - loss: 0.4562 - accuracy: 0.8897 - val_loss: 0.1989 - val_accuracy: 0.9654\n",
            "Epoch 3/10\n",
            "13/13 [==============================] - 1s 103ms/step - loss: 0.1348 - accuracy: 0.9855 - val_loss: 0.0632 - val_accuracy: 0.9990\n",
            "Epoch 4/10\n",
            "13/13 [==============================] - 1s 102ms/step - loss: 0.0462 - accuracy: 0.9995 - val_loss: 0.0262 - val_accuracy: 1.0000\n",
            "Epoch 5/10\n",
            "13/13 [==============================] - 1s 104ms/step - loss: 0.0216 - accuracy: 1.0000 - val_loss: 0.0144 - val_accuracy: 1.0000\n",
            "Epoch 6/10\n",
            "13/13 [==============================] - 1s 103ms/step - loss: 0.0128 - accuracy: 1.0000 - val_loss: 0.0097 - val_accuracy: 1.0000\n",
            "Epoch 7/10\n",
            "13/13 [==============================] - 1s 102ms/step - loss: 0.0092 - accuracy: 1.0000 - val_loss: 0.0074 - val_accuracy: 1.0000\n",
            "Epoch 8/10\n",
            "13/13 [==============================] - 1s 101ms/step - loss: 0.0071 - accuracy: 1.0000 - val_loss: 0.0059 - val_accuracy: 1.0000\n",
            "Epoch 9/10\n",
            "13/13 [==============================] - 1s 104ms/step - loss: 0.0058 - accuracy: 1.0000 - val_loss: 0.0049 - val_accuracy: 1.0000\n",
            "Epoch 10/10\n",
            "13/13 [==============================] - 1s 102ms/step - loss: 0.0049 - accuracy: 1.0000 - val_loss: 0.0042 - val_accuracy: 1.0000\n"
          ]
        }
      ]
    },
    {
      "cell_type": "code",
      "source": [
        "fig = plt.figure()\n",
        "plt.plot(hist.history['accuracy'], color='teal', label='accuracy')\n",
        "plt.plot(hist.history['val_accuracy'], color='orange', label='val_accuracy')\n",
        "fig.suptitle('Accuracy', fontsize=20)\n",
        "plt.legend(loc=\"upper left\")\n",
        "plt.show()\n",
        "fig = plt.figure()\n",
        "plt.plot(hist.history['loss'], color='teal', label='loss')\n",
        "plt.plot(hist.history['val_loss'], color='orange', label='val_loss')\n",
        "fig.suptitle('Loss', fontsize=20)\n",
        "plt.legend(loc=\"upper left\")\n",
        "plt.show()"
      ],
      "metadata": {
        "colab": {
          "base_uri": "https://localhost:8080/",
          "height": 571
        },
        "id": "uUwaeLsA6MhL",
        "outputId": "6591c1fd-4084-4b91-a4d7-24f6fd7baa5b"
      },
      "execution_count": null,
      "outputs": [
        {
          "output_type": "display_data",
          "data": {
            "text/plain": [
              "<Figure size 432x288 with 1 Axes>"
            ],
            "image/png": "[encoded data removed]"
          },
          "metadata": {
            "needs_background": "light"
          }
        },
        {
          "output_type": "display_data",
          "data": {
            "text/plain": [
              "<Figure size 432x288 with 1 Axes>"
            ],
            "image/png": "[encoded data removed]"
          },
          "metadata": {
            "needs_background": "light"
          }
        }
      ]
    },
    {
      "cell_type": "code",
      "source": [
        "results = model.evaluate(test_img,  test_labels, verbose = 0)\n",
        "print('test loss, test acc:', results)"
      ],
      "metadata": {
        "colab": {
          "base_uri": "https://localhost:8080/"
        },
        "id": "Ht4w6OmmUqOe",
        "outputId": "d6bd6fba-5b46-4dab-ad2c-184c3f323423"
      },
      "execution_count": null,
      "outputs": [
        {
          "output_type": "stream",
          "name": "stdout",
          "text": [
            "test loss, test acc: [0.7539896965026855, 0.806609034538269]\n"
          ]
        }
      ]
    },
    {
      "cell_type": "markdown",
      "source": [
        "*With SGD Optimizer and Without Dropout*"
      ],
      "metadata": {
        "id": "EPBPOt6s-bX7"
      }
    },
    {
      "cell_type": "code",
      "source": [
        "model4 = Sequential([\n",
        "    \n",
        "    \n",
        "    # dense layer 1\n",
        "    Dense( X_res.shape[1], activation='relu'),  \n",
        "    \n",
        "    # dense layer 2\n",
        "    Dense(128, activation='relu'), \n",
        "    \n",
        "      # output layer\n",
        "    Dense(25, activation='sigmoid'),  \n",
        "])"
      ],
      "metadata": {
        "id": "03rQpFwS96gZ"
      },
      "execution_count": null,
      "outputs": []
    },
    {
      "cell_type": "code",
      "source": [
        "model4.compile(optimizer='SGD',\n",
        "              loss='sparse_categorical_crossentropy',\n",
        "              metrics=['accuracy'])"
      ],
      "metadata": {
        "id": "lbFbDN4bV493"
      },
      "execution_count": null,
      "outputs": []
    },
    {
      "cell_type": "code",
      "source": [
        "logdir='logs'\n",
        "tensorboard_callback = tf.keras.callbacks.TensorBoard(log_dir=logdir)\n",
        "hist=model4.fit(X_res, y_res, epochs=150, \n",
        "          batch_size=2000, \n",
        "          validation_split=0.2)"
      ],
      "metadata": {
        "colab": {
          "base_uri": "https://localhost:8080/"
        },
        "id": "V1JFQwJvV8Cd",
        "outputId": "7147de93-67c1-4540-f11a-dcc72b05fc3c"
      },
      "execution_count": null,
      "outputs": [
        {
          "output_type": "stream",
          "name": "stdout",
          "text": [
            "Epoch 1/150\n",
            "13/13 [==============================] - 2s 113ms/step - loss: 3.2904 - accuracy: 0.0647 - val_loss: 3.0778 - val_accuracy: 0.1169\n",
            "Epoch 2/150\n",
            "13/13 [==============================] - 1s 103ms/step - loss: 2.9699 - accuracy: 0.1509 - val_loss: 2.8655 - val_accuracy: 0.2011\n",
            "Epoch 3/150\n",
            "13/13 [==============================] - 1s 113ms/step - loss: 2.7738 - accuracy: 0.2306 - val_loss: 2.6934 - val_accuracy: 0.2667\n",
            "Epoch 4/150\n",
            "13/13 [==============================] - 2s 171ms/step - loss: 2.6089 - accuracy: 0.2972 - val_loss: 2.5379 - val_accuracy: 0.3379\n",
            "Epoch 5/150\n",
            "13/13 [==============================] - 2s 117ms/step - loss: 2.4579 - accuracy: 0.3572 - val_loss: 2.3884 - val_accuracy: 0.3949\n",
            "Epoch 6/150\n",
            "13/13 [==============================] - 1s 102ms/step - loss: 2.3167 - accuracy: 0.4113 - val_loss: 2.2498 - val_accuracy: 0.4422\n",
            "Epoch 7/150\n",
            "13/13 [==============================] - 1s 101ms/step - loss: 2.1845 - accuracy: 0.4588 - val_loss: 2.1188 - val_accuracy: 0.4942\n",
            "Epoch 8/150\n",
            "13/13 [==============================] - 1s 101ms/step - loss: 2.0610 - accuracy: 0.5036 - val_loss: 1.9975 - val_accuracy: 0.5365\n",
            "Epoch 9/150\n",
            "13/13 [==============================] - 1s 103ms/step - loss: 1.9460 - accuracy: 0.5397 - val_loss: 1.8858 - val_accuracy: 0.5671\n",
            "Epoch 10/150\n",
            "13/13 [==============================] - 1s 100ms/step - loss: 1.8396 - accuracy: 0.5732 - val_loss: 1.7837 - val_accuracy: 0.5966\n",
            "Epoch 11/150\n",
            "13/13 [==============================] - 1s 100ms/step - loss: 1.7415 - accuracy: 0.6031 - val_loss: 1.6868 - val_accuracy: 0.6260\n",
            "Epoch 12/150\n",
            "13/13 [==============================] - 1s 100ms/step - loss: 1.6514 - accuracy: 0.6283 - val_loss: 1.5989 - val_accuracy: 0.6541\n",
            "Epoch 13/150\n",
            "13/13 [==============================] - 1s 101ms/step - loss: 1.5684 - accuracy: 0.6540 - val_loss: 1.5195 - val_accuracy: 0.6771\n",
            "Epoch 14/150\n",
            "13/13 [==============================] - 1s 102ms/step - loss: 1.4921 - accuracy: 0.6765 - val_loss: 1.4452 - val_accuracy: 0.6946\n",
            "Epoch 15/150\n",
            "13/13 [==============================] - 1s 100ms/step - loss: 1.4219 - accuracy: 0.6956 - val_loss: 1.3767 - val_accuracy: 0.7117\n",
            "Epoch 16/150\n",
            "13/13 [==============================] - 1s 102ms/step - loss: 1.3571 - accuracy: 0.7133 - val_loss: 1.3143 - val_accuracy: 0.7271\n",
            "Epoch 17/150\n",
            "13/13 [==============================] - 1s 102ms/step - loss: 1.2971 - accuracy: 0.7309 - val_loss: 1.2563 - val_accuracy: 0.7450\n",
            "Epoch 18/150\n",
            "13/13 [==============================] - 1s 105ms/step - loss: 1.2416 - accuracy: 0.7455 - val_loss: 1.2022 - val_accuracy: 0.7605\n",
            "Epoch 19/150\n",
            "13/13 [==============================] - 1s 101ms/step - loss: 1.1902 - accuracy: 0.7582 - val_loss: 1.1522 - val_accuracy: 0.7756\n",
            "Epoch 20/150\n",
            "13/13 [==============================] - 1s 100ms/step - loss: 1.1422 - accuracy: 0.7726 - val_loss: 1.1055 - val_accuracy: 0.7864\n",
            "Epoch 21/150\n",
            "13/13 [==============================] - 1s 103ms/step - loss: 1.0976 - accuracy: 0.7838 - val_loss: 1.0615 - val_accuracy: 0.7957\n",
            "Epoch 22/150\n",
            "13/13 [==============================] - 1s 101ms/step - loss: 1.0557 - accuracy: 0.7931 - val_loss: 1.0219 - val_accuracy: 0.8060\n",
            "Epoch 23/150\n",
            "13/13 [==============================] - 1s 101ms/step - loss: 1.0163 - accuracy: 0.8048 - val_loss: 0.9839 - val_accuracy: 0.8142\n",
            "Epoch 24/150\n",
            "13/13 [==============================] - 1s 104ms/step - loss: 0.9794 - accuracy: 0.8147 - val_loss: 0.9462 - val_accuracy: 0.8245\n",
            "Epoch 25/150\n",
            "13/13 [==============================] - 1s 103ms/step - loss: 0.9445 - accuracy: 0.8239 - val_loss: 0.9122 - val_accuracy: 0.8321\n",
            "Epoch 26/150\n",
            "13/13 [==============================] - 1s 101ms/step - loss: 0.9115 - accuracy: 0.8336 - val_loss: 0.8810 - val_accuracy: 0.8410\n",
            "Epoch 27/150\n",
            "13/13 [==============================] - 1s 102ms/step - loss: 0.8804 - accuracy: 0.8418 - val_loss: 0.8511 - val_accuracy: 0.8487\n",
            "Epoch 28/150\n",
            "13/13 [==============================] - 1s 100ms/step - loss: 0.8509 - accuracy: 0.8495 - val_loss: 0.8212 - val_accuracy: 0.8558\n",
            "Epoch 29/150\n",
            "13/13 [==============================] - 1s 100ms/step - loss: 0.8231 - accuracy: 0.8569 - val_loss: 0.7944 - val_accuracy: 0.8612\n",
            "Epoch 30/150\n",
            "13/13 [==============================] - 1s 99ms/step - loss: 0.7965 - accuracy: 0.8626 - val_loss: 0.7692 - val_accuracy: 0.8664\n",
            "Epoch 31/150\n",
            "13/13 [==============================] - 1s 99ms/step - loss: 0.7713 - accuracy: 0.8686 - val_loss: 0.7446 - val_accuracy: 0.8706\n",
            "Epoch 32/150\n",
            "13/13 [==============================] - 1s 101ms/step - loss: 0.7473 - accuracy: 0.8741 - val_loss: 0.7217 - val_accuracy: 0.8748\n",
            "Epoch 33/150\n",
            "13/13 [==============================] - 1s 103ms/step - loss: 0.7245 - accuracy: 0.8790 - val_loss: 0.6996 - val_accuracy: 0.8801\n",
            "Epoch 34/150\n",
            "13/13 [==============================] - 1s 102ms/step - loss: 0.7027 - accuracy: 0.8840 - val_loss: 0.6777 - val_accuracy: 0.8852\n",
            "Epoch 35/150\n",
            "13/13 [==============================] - 1s 104ms/step - loss: 0.6818 - accuracy: 0.8887 - val_loss: 0.6563 - val_accuracy: 0.8876\n",
            "Epoch 36/150\n",
            "13/13 [==============================] - 1s 103ms/step - loss: 0.6618 - accuracy: 0.8930 - val_loss: 0.6375 - val_accuracy: 0.8905\n",
            "Epoch 37/150\n",
            "13/13 [==============================] - 1s 102ms/step - loss: 0.6425 - accuracy: 0.8963 - val_loss: 0.6192 - val_accuracy: 0.8936\n",
            "Epoch 38/150\n",
            "13/13 [==============================] - 1s 102ms/step - loss: 0.6242 - accuracy: 0.9012 - val_loss: 0.6020 - val_accuracy: 0.8970\n",
            "Epoch 39/150\n",
            "13/13 [==============================] - 1s 101ms/step - loss: 0.6067 - accuracy: 0.9052 - val_loss: 0.5845 - val_accuracy: 0.9013\n",
            "Epoch 40/150\n",
            "13/13 [==============================] - 1s 103ms/step - loss: 0.5897 - accuracy: 0.9089 - val_loss: 0.5673 - val_accuracy: 0.9049\n",
            "Epoch 41/150\n",
            "13/13 [==============================] - 1s 101ms/step - loss: 0.5734 - accuracy: 0.9122 - val_loss: 0.5511 - val_accuracy: 0.9097\n",
            "Epoch 42/150\n",
            "13/13 [==============================] - 1s 103ms/step - loss: 0.5577 - accuracy: 0.9157 - val_loss: 0.5362 - val_accuracy: 0.9119\n",
            "Epoch 43/150\n",
            "13/13 [==============================] - 1s 102ms/step - loss: 0.5427 - accuracy: 0.9189 - val_loss: 0.5200 - val_accuracy: 0.9161\n",
            "Epoch 44/150\n",
            "13/13 [==============================] - 1s 101ms/step - loss: 0.5282 - accuracy: 0.9224 - val_loss: 0.5074 - val_accuracy: 0.9181\n",
            "Epoch 45/150\n",
            "13/13 [==============================] - 1s 101ms/step - loss: 0.5142 - accuracy: 0.9249 - val_loss: 0.4941 - val_accuracy: 0.9222\n",
            "Epoch 46/150\n",
            "13/13 [==============================] - 1s 101ms/step - loss: 0.5007 - accuracy: 0.9276 - val_loss: 0.4804 - val_accuracy: 0.9248\n",
            "Epoch 47/150\n",
            "13/13 [==============================] - 1s 103ms/step - loss: 0.4877 - accuracy: 0.9299 - val_loss: 0.4683 - val_accuracy: 0.9277\n",
            "Epoch 48/150\n",
            "13/13 [==============================] - 1s 102ms/step - loss: 0.4752 - accuracy: 0.9329 - val_loss: 0.4563 - val_accuracy: 0.9305\n",
            "Epoch 49/150\n",
            "13/13 [==============================] - 1s 103ms/step - loss: 0.4631 - accuracy: 0.9364 - val_loss: 0.4446 - val_accuracy: 0.9332\n",
            "Epoch 50/150\n",
            "13/13 [==============================] - 1s 100ms/step - loss: 0.4514 - accuracy: 0.9385 - val_loss: 0.4323 - val_accuracy: 0.9392\n",
            "Epoch 51/150\n",
            "13/13 [==============================] - 1s 102ms/step - loss: 0.4401 - accuracy: 0.9426 - val_loss: 0.4217 - val_accuracy: 0.9427\n",
            "Epoch 52/150\n",
            "13/13 [==============================] - 1s 103ms/step - loss: 0.4292 - accuracy: 0.9455 - val_loss: 0.4109 - val_accuracy: 0.9459\n",
            "Epoch 53/150\n",
            "13/13 [==============================] - 1s 102ms/step - loss: 0.4186 - accuracy: 0.9474 - val_loss: 0.4015 - val_accuracy: 0.9486\n",
            "Epoch 54/150\n",
            "13/13 [==============================] - 1s 102ms/step - loss: 0.4085 - accuracy: 0.9494 - val_loss: 0.3922 - val_accuracy: 0.9527\n",
            "Epoch 55/150\n",
            "13/13 [==============================] - 1s 102ms/step - loss: 0.3985 - accuracy: 0.9520 - val_loss: 0.3825 - val_accuracy: 0.9557\n",
            "Epoch 56/150\n",
            "13/13 [==============================] - 1s 106ms/step - loss: 0.3890 - accuracy: 0.9546 - val_loss: 0.3723 - val_accuracy: 0.9588\n",
            "Epoch 57/150\n",
            "13/13 [==============================] - 1s 100ms/step - loss: 0.3797 - accuracy: 0.9571 - val_loss: 0.3642 - val_accuracy: 0.9606\n",
            "Epoch 58/150\n",
            "13/13 [==============================] - 1s 101ms/step - loss: 0.3706 - accuracy: 0.9598 - val_loss: 0.3549 - val_accuracy: 0.9620\n",
            "Epoch 59/150\n",
            "13/13 [==============================] - 1s 104ms/step - loss: 0.3620 - accuracy: 0.9618 - val_loss: 0.3472 - val_accuracy: 0.9636\n",
            "Epoch 60/150\n",
            "13/13 [==============================] - 1s 101ms/step - loss: 0.3535 - accuracy: 0.9635 - val_loss: 0.3386 - val_accuracy: 0.9652\n",
            "Epoch 61/150\n",
            "13/13 [==============================] - 1s 103ms/step - loss: 0.3453 - accuracy: 0.9654 - val_loss: 0.3307 - val_accuracy: 0.9678\n",
            "Epoch 62/150\n",
            "13/13 [==============================] - 1s 103ms/step - loss: 0.3373 - accuracy: 0.9670 - val_loss: 0.3236 - val_accuracy: 0.9699\n",
            "Epoch 63/150\n",
            "13/13 [==============================] - 1s 101ms/step - loss: 0.3297 - accuracy: 0.9685 - val_loss: 0.3157 - val_accuracy: 0.9704\n",
            "Epoch 64/150\n",
            "13/13 [==============================] - 1s 102ms/step - loss: 0.3221 - accuracy: 0.9701 - val_loss: 0.3085 - val_accuracy: 0.9717\n",
            "Epoch 65/150\n",
            "13/13 [==============================] - 1s 100ms/step - loss: 0.3149 - accuracy: 0.9716 - val_loss: 0.3009 - val_accuracy: 0.9730\n",
            "Epoch 66/150\n",
            "13/13 [==============================] - 1s 102ms/step - loss: 0.3079 - accuracy: 0.9735 - val_loss: 0.2948 - val_accuracy: 0.9738\n",
            "Epoch 67/150\n",
            "13/13 [==============================] - 1s 101ms/step - loss: 0.3011 - accuracy: 0.9745 - val_loss: 0.2880 - val_accuracy: 0.9746\n",
            "Epoch 68/150\n",
            "13/13 [==============================] - 1s 101ms/step - loss: 0.2944 - accuracy: 0.9757 - val_loss: 0.2816 - val_accuracy: 0.9760\n",
            "Epoch 69/150\n",
            "13/13 [==============================] - 1s 101ms/step - loss: 0.2881 - accuracy: 0.9772 - val_loss: 0.2754 - val_accuracy: 0.9765\n",
            "Epoch 70/150\n",
            "13/13 [==============================] - 1s 101ms/step - loss: 0.2819 - accuracy: 0.9778 - val_loss: 0.2698 - val_accuracy: 0.9773\n",
            "Epoch 71/150\n",
            "13/13 [==============================] - 1s 102ms/step - loss: 0.2758 - accuracy: 0.9790 - val_loss: 0.2638 - val_accuracy: 0.9789\n",
            "Epoch 72/150\n",
            "13/13 [==============================] - 1s 104ms/step - loss: 0.2699 - accuracy: 0.9801 - val_loss: 0.2582 - val_accuracy: 0.9797\n",
            "Epoch 73/150\n",
            "13/13 [==============================] - 1s 103ms/step - loss: 0.2642 - accuracy: 0.9809 - val_loss: 0.2526 - val_accuracy: 0.9807\n",
            "Epoch 74/150\n",
            "13/13 [==============================] - 1s 102ms/step - loss: 0.2586 - accuracy: 0.9822 - val_loss: 0.2475 - val_accuracy: 0.9816\n",
            "Epoch 75/150\n",
            "13/13 [==============================] - 1s 100ms/step - loss: 0.2532 - accuracy: 0.9829 - val_loss: 0.2426 - val_accuracy: 0.9831\n",
            "Epoch 76/150\n",
            "13/13 [==============================] - 1s 100ms/step - loss: 0.2480 - accuracy: 0.9840 - val_loss: 0.2372 - val_accuracy: 0.9841\n",
            "Epoch 77/150\n",
            "13/13 [==============================] - 1s 100ms/step - loss: 0.2429 - accuracy: 0.9845 - val_loss: 0.2322 - val_accuracy: 0.9844\n",
            "Epoch 78/150\n",
            "13/13 [==============================] - 1s 101ms/step - loss: 0.2379 - accuracy: 0.9855 - val_loss: 0.2276 - val_accuracy: 0.9854\n",
            "Epoch 79/150\n",
            "13/13 [==============================] - 1s 101ms/step - loss: 0.2331 - accuracy: 0.9861 - val_loss: 0.2230 - val_accuracy: 0.9866\n",
            "Epoch 80/150\n",
            "13/13 [==============================] - 1s 103ms/step - loss: 0.2284 - accuracy: 0.9871 - val_loss: 0.2192 - val_accuracy: 0.9870\n",
            "Epoch 81/150\n",
            "13/13 [==============================] - 1s 101ms/step - loss: 0.2239 - accuracy: 0.9877 - val_loss: 0.2142 - val_accuracy: 0.9876\n",
            "Epoch 82/150\n",
            "13/13 [==============================] - 1s 101ms/step - loss: 0.2194 - accuracy: 0.9883 - val_loss: 0.2101 - val_accuracy: 0.9882\n",
            "Epoch 83/150\n",
            "13/13 [==============================] - 1s 103ms/step - loss: 0.2151 - accuracy: 0.9888 - val_loss: 0.2062 - val_accuracy: 0.9886\n",
            "Epoch 84/150\n",
            "13/13 [==============================] - 1s 102ms/step - loss: 0.2110 - accuracy: 0.9891 - val_loss: 0.2020 - val_accuracy: 0.9891\n",
            "Epoch 85/150\n",
            "13/13 [==============================] - 1s 100ms/step - loss: 0.2069 - accuracy: 0.9899 - val_loss: 0.1984 - val_accuracy: 0.9895\n",
            "Epoch 86/150\n",
            "13/13 [==============================] - 1s 102ms/step - loss: 0.2029 - accuracy: 0.9905 - val_loss: 0.1943 - val_accuracy: 0.9905\n",
            "Epoch 87/150\n",
            "13/13 [==============================] - 1s 102ms/step - loss: 0.1991 - accuracy: 0.9911 - val_loss: 0.1906 - val_accuracy: 0.9913\n",
            "Epoch 88/150\n",
            "13/13 [==============================] - 1s 103ms/step - loss: 0.1954 - accuracy: 0.9918 - val_loss: 0.1872 - val_accuracy: 0.9918\n",
            "Epoch 89/150\n",
            "13/13 [==============================] - 1s 102ms/step - loss: 0.1917 - accuracy: 0.9923 - val_loss: 0.1835 - val_accuracy: 0.9926\n",
            "Epoch 90/150\n",
            "13/13 [==============================] - 1s 101ms/step - loss: 0.1882 - accuracy: 0.9932 - val_loss: 0.1802 - val_accuracy: 0.9926\n",
            "Epoch 91/150\n",
            "13/13 [==============================] - 1s 100ms/step - loss: 0.1847 - accuracy: 0.9935 - val_loss: 0.1766 - val_accuracy: 0.9929\n",
            "Epoch 92/150\n",
            "13/13 [==============================] - 1s 101ms/step - loss: 0.1813 - accuracy: 0.9942 - val_loss: 0.1737 - val_accuracy: 0.9945\n",
            "Epoch 93/150\n",
            "13/13 [==============================] - 1s 104ms/step - loss: 0.1780 - accuracy: 0.9944 - val_loss: 0.1707 - val_accuracy: 0.9945\n",
            "Epoch 94/150\n",
            "13/13 [==============================] - 1s 103ms/step - loss: 0.1748 - accuracy: 0.9949 - val_loss: 0.1675 - val_accuracy: 0.9950\n",
            "Epoch 95/150\n",
            "13/13 [==============================] - 1s 102ms/step - loss: 0.1717 - accuracy: 0.9952 - val_loss: 0.1646 - val_accuracy: 0.9952\n",
            "Epoch 96/150\n",
            "13/13 [==============================] - 1s 105ms/step - loss: 0.1687 - accuracy: 0.9955 - val_loss: 0.1617 - val_accuracy: 0.9952\n",
            "Epoch 97/150\n",
            "13/13 [==============================] - 1s 107ms/step - loss: 0.1658 - accuracy: 0.9957 - val_loss: 0.1588 - val_accuracy: 0.9953\n",
            "Epoch 98/150\n",
            "13/13 [==============================] - 1s 103ms/step - loss: 0.1629 - accuracy: 0.9960 - val_loss: 0.1561 - val_accuracy: 0.9957\n",
            "Epoch 99/150\n",
            "13/13 [==============================] - 1s 101ms/step - loss: 0.1601 - accuracy: 0.9962 - val_loss: 0.1534 - val_accuracy: 0.9965\n",
            "Epoch 100/150\n",
            "13/13 [==============================] - 1s 102ms/step - loss: 0.1574 - accuracy: 0.9965 - val_loss: 0.1509 - val_accuracy: 0.9965\n",
            "Epoch 101/150\n",
            "13/13 [==============================] - 1s 102ms/step - loss: 0.1547 - accuracy: 0.9970 - val_loss: 0.1484 - val_accuracy: 0.9965\n",
            "Epoch 102/150\n",
            "13/13 [==============================] - 1s 103ms/step - loss: 0.1521 - accuracy: 0.9972 - val_loss: 0.1458 - val_accuracy: 0.9971\n",
            "Epoch 103/150\n",
            "13/13 [==============================] - 1s 102ms/step - loss: 0.1496 - accuracy: 0.9974 - val_loss: 0.1435 - val_accuracy: 0.9974\n",
            "Epoch 104/150\n",
            "13/13 [==============================] - 1s 105ms/step - loss: 0.1471 - accuracy: 0.9976 - val_loss: 0.1410 - val_accuracy: 0.9977\n",
            "Epoch 105/150\n",
            "13/13 [==============================] - 1s 100ms/step - loss: 0.1447 - accuracy: 0.9977 - val_loss: 0.1387 - val_accuracy: 0.9982\n",
            "Epoch 106/150\n",
            "13/13 [==============================] - 1s 101ms/step - loss: 0.1423 - accuracy: 0.9980 - val_loss: 0.1367 - val_accuracy: 0.9982\n",
            "Epoch 107/150\n",
            "13/13 [==============================] - 1s 102ms/step - loss: 0.1401 - accuracy: 0.9980 - val_loss: 0.1343 - val_accuracy: 0.9982\n",
            "Epoch 108/150\n",
            "13/13 [==============================] - 1s 102ms/step - loss: 0.1378 - accuracy: 0.9981 - val_loss: 0.1322 - val_accuracy: 0.9984\n",
            "Epoch 109/150\n",
            "13/13 [==============================] - 1s 101ms/step - loss: 0.1356 - accuracy: 0.9984 - val_loss: 0.1301 - val_accuracy: 0.9987\n",
            "Epoch 110/150\n",
            "13/13 [==============================] - 1s 105ms/step - loss: 0.1335 - accuracy: 0.9985 - val_loss: 0.1278 - val_accuracy: 0.9987\n",
            "Epoch 111/150\n",
            "13/13 [==============================] - 1s 100ms/step - loss: 0.1314 - accuracy: 0.9987 - val_loss: 0.1263 - val_accuracy: 0.9987\n",
            "Epoch 112/150\n",
            "13/13 [==============================] - 1s 105ms/step - loss: 0.1294 - accuracy: 0.9988 - val_loss: 0.1241 - val_accuracy: 0.9987\n",
            "Epoch 113/150\n",
            "13/13 [==============================] - 1s 115ms/step - loss: 0.1274 - accuracy: 0.9988 - val_loss: 0.1220 - val_accuracy: 0.9987\n",
            "Epoch 114/150\n",
            "13/13 [==============================] - 2s 172ms/step - loss: 0.1255 - accuracy: 0.9989 - val_loss: 0.1206 - val_accuracy: 0.9987\n",
            "Epoch 115/150\n",
            "13/13 [==============================] - 1s 111ms/step - loss: 0.1236 - accuracy: 0.9990 - val_loss: 0.1186 - val_accuracy: 0.9987\n",
            "Epoch 116/150\n",
            "13/13 [==============================] - 1s 102ms/step - loss: 0.1217 - accuracy: 0.9991 - val_loss: 0.1170 - val_accuracy: 0.9987\n",
            "Epoch 117/150\n",
            "13/13 [==============================] - 1s 106ms/step - loss: 0.1199 - accuracy: 0.9992 - val_loss: 0.1150 - val_accuracy: 0.9987\n",
            "Epoch 118/150\n",
            "13/13 [==============================] - 1s 101ms/step - loss: 0.1182 - accuracy: 0.9992 - val_loss: 0.1136 - val_accuracy: 0.9987\n",
            "Epoch 119/150\n",
            "13/13 [==============================] - 1s 101ms/step - loss: 0.1164 - accuracy: 0.9993 - val_loss: 0.1119 - val_accuracy: 0.9987\n",
            "Epoch 120/150\n",
            "13/13 [==============================] - 1s 101ms/step - loss: 0.1147 - accuracy: 0.9994 - val_loss: 0.1101 - val_accuracy: 0.9989\n",
            "Epoch 121/150\n",
            "13/13 [==============================] - 1s 102ms/step - loss: 0.1131 - accuracy: 0.9995 - val_loss: 0.1085 - val_accuracy: 0.9989\n",
            "Epoch 122/150\n",
            "13/13 [==============================] - 1s 101ms/step - loss: 0.1115 - accuracy: 0.9995 - val_loss: 0.1069 - val_accuracy: 0.9989\n",
            "Epoch 123/150\n",
            "13/13 [==============================] - 1s 101ms/step - loss: 0.1099 - accuracy: 0.9996 - val_loss: 0.1054 - val_accuracy: 0.9992\n",
            "Epoch 124/150\n",
            "13/13 [==============================] - 1s 101ms/step - loss: 0.1084 - accuracy: 0.9996 - val_loss: 0.1039 - val_accuracy: 0.9994\n",
            "Epoch 125/150\n",
            "13/13 [==============================] - 1s 104ms/step - loss: 0.1069 - accuracy: 0.9996 - val_loss: 0.1025 - val_accuracy: 0.9995\n",
            "Epoch 126/150\n",
            "13/13 [==============================] - 1s 104ms/step - loss: 0.1054 - accuracy: 0.9996 - val_loss: 0.1012 - val_accuracy: 0.9995\n",
            "Epoch 127/150\n",
            "13/13 [==============================] - 1s 105ms/step - loss: 0.1039 - accuracy: 0.9997 - val_loss: 0.0998 - val_accuracy: 0.9998\n",
            "Epoch 128/150\n",
            "13/13 [==============================] - 1s 101ms/step - loss: 0.1025 - accuracy: 0.9998 - val_loss: 0.0984 - val_accuracy: 0.9997\n",
            "Epoch 129/150\n",
            "13/13 [==============================] - 1s 101ms/step - loss: 0.1011 - accuracy: 0.9998 - val_loss: 0.0970 - val_accuracy: 1.0000\n",
            "Epoch 130/150\n",
            "13/13 [==============================] - 1s 100ms/step - loss: 0.0998 - accuracy: 0.9998 - val_loss: 0.0958 - val_accuracy: 1.0000\n",
            "Epoch 131/150\n",
            "13/13 [==============================] - 1s 101ms/step - loss: 0.0985 - accuracy: 0.9998 - val_loss: 0.0946 - val_accuracy: 1.0000\n",
            "Epoch 132/150\n",
            "13/13 [==============================] - 1s 100ms/step - loss: 0.0972 - accuracy: 0.9998 - val_loss: 0.0932 - val_accuracy: 1.0000\n",
            "Epoch 133/150\n",
            "13/13 [==============================] - 1s 102ms/step - loss: 0.0959 - accuracy: 0.9998 - val_loss: 0.0921 - val_accuracy: 1.0000\n",
            "Epoch 134/150\n",
            "13/13 [==============================] - 1s 100ms/step - loss: 0.0947 - accuracy: 0.9999 - val_loss: 0.0909 - val_accuracy: 1.0000\n",
            "Epoch 135/150\n",
            "13/13 [==============================] - 1s 102ms/step - loss: 0.0934 - accuracy: 0.9999 - val_loss: 0.0898 - val_accuracy: 1.0000\n",
            "Epoch 136/150\n",
            "13/13 [==============================] - 1s 101ms/step - loss: 0.0922 - accuracy: 0.9999 - val_loss: 0.0885 - val_accuracy: 1.0000\n",
            "Epoch 137/150\n",
            "13/13 [==============================] - 1s 102ms/step - loss: 0.0911 - accuracy: 0.9999 - val_loss: 0.0873 - val_accuracy: 1.0000\n",
            "Epoch 138/150\n",
            "13/13 [==============================] - 1s 101ms/step - loss: 0.0899 - accuracy: 0.9999 - val_loss: 0.0862 - val_accuracy: 1.0000\n",
            "Epoch 139/150\n",
            "13/13 [==============================] - 1s 103ms/step - loss: 0.0888 - accuracy: 0.9999 - val_loss: 0.0852 - val_accuracy: 1.0000\n",
            "Epoch 140/150\n",
            "13/13 [==============================] - 1s 104ms/step - loss: 0.0877 - accuracy: 0.9999 - val_loss: 0.0841 - val_accuracy: 1.0000\n",
            "Epoch 141/150\n",
            "13/13 [==============================] - 1s 103ms/step - loss: 0.0866 - accuracy: 0.9999 - val_loss: 0.0830 - val_accuracy: 1.0000\n",
            "Epoch 142/150\n",
            "13/13 [==============================] - 1s 103ms/step - loss: 0.0856 - accuracy: 0.9999 - val_loss: 0.0821 - val_accuracy: 1.0000\n",
            "Epoch 143/150\n",
            "13/13 [==============================] - 1s 104ms/step - loss: 0.0845 - accuracy: 0.9999 - val_loss: 0.0811 - val_accuracy: 1.0000\n",
            "Epoch 144/150\n",
            "13/13 [==============================] - 1s 100ms/step - loss: 0.0835 - accuracy: 0.9999 - val_loss: 0.0802 - val_accuracy: 1.0000\n",
            "Epoch 145/150\n",
            "13/13 [==============================] - 1s 103ms/step - loss: 0.0825 - accuracy: 0.9999 - val_loss: 0.0792 - val_accuracy: 1.0000\n",
            "Epoch 146/150\n",
            "13/13 [==============================] - 1s 101ms/step - loss: 0.0815 - accuracy: 0.9999 - val_loss: 0.0782 - val_accuracy: 1.0000\n",
            "Epoch 147/150\n",
            "13/13 [==============================] - 1s 102ms/step - loss: 0.0806 - accuracy: 0.9999 - val_loss: 0.0773 - val_accuracy: 1.0000\n",
            "Epoch 148/150\n",
            "13/13 [==============================] - 1s 102ms/step - loss: 0.0796 - accuracy: 0.9999 - val_loss: 0.0764 - val_accuracy: 1.0000\n",
            "Epoch 149/150\n",
            "13/13 [==============================] - 1s 102ms/step - loss: 0.0787 - accuracy: 0.9999 - val_loss: 0.0756 - val_accuracy: 1.0000\n",
            "Epoch 150/150\n",
            "13/13 [==============================] - 1s 103ms/step - loss: 0.0778 - accuracy: 0.9999 - val_loss: 0.0747 - val_accuracy: 1.0000\n"
          ]
        }
      ]
    },
    {
      "cell_type": "code",
      "source": [
        "fig = plt.figure()\n",
        "plt.plot(hist.history['accuracy'], color='teal', label='accuracy')\n",
        "plt.plot(hist.history['val_accuracy'], color='orange', label='val_accuracy')\n",
        "fig.suptitle('Accuracy', fontsize=20)\n",
        "plt.legend(loc=\"upper left\")\n",
        "plt.show()\n",
        "fig = plt.figure()\n",
        "plt.plot(hist.history['loss'], color='teal', label='loss')\n",
        "plt.plot(hist.history['val_loss'], color='orange', label='val_loss')\n",
        "fig.suptitle('Loss', fontsize=20)\n",
        "plt.legend(loc=\"upper left\")\n",
        "plt.show()"
      ],
      "metadata": {
        "colab": {
          "base_uri": "https://localhost:8080/",
          "height": 571
        },
        "id": "mTz6dgx1_GxS",
        "outputId": "f9864134-9a31-4523-ec88-519350517e2b"
      },
      "execution_count": null,
      "outputs": [
        {
          "output_type": "display_data",
          "data": {
            "text/plain": [
              "<Figure size 432x288 with 1 Axes>"
            ],
            "image/png": "[encoded data removed]"
          },
          "metadata": {
            "needs_background": "light"
          }
        },
        {
          "output_type": "display_data",
          "data": {
            "text/plain": [
              "<Figure size 432x288 with 1 Axes>"
            ],
            "image/png": "[encoded data removed]"
          },
          "metadata": {
            "needs_background": "light"
          }
        }
      ]
    },
    {
      "cell_type": "code",
      "source": [
        "results = model4.evaluate(test_img,  test_labels, verbose = 0)\n",
        "print('test loss, test acc:', results)"
      ],
      "metadata": {
        "colab": {
          "base_uri": "https://localhost:8080/"
        },
        "id": "pIYbZ9ufV_kr",
        "outputId": "7da87b30-fb4c-4311-8369-f34798ed1cb8"
      },
      "execution_count": null,
      "outputs": [
        {
          "output_type": "stream",
          "name": "stdout",
          "text": [
            "test loss, test acc: [0.6668615937232971, 0.799358606338501]\n"
          ]
        }
      ]
    },
    {
      "cell_type": "markdown",
      "source": [
        "SGD produces the same performance as regular gradient descent when the learning rate is low. Adam's optimization method computes individual adaptive learning rates for different parameters from estimates of the first and second moments of the gradients. Also SGD need more epochs to have 100 accuracy"
      ],
      "metadata": {
        "id": "bmnYOyg3CKra"
      }
    },
    {
      "cell_type": "markdown",
      "source": [
        "Adam works better than SGD on test dataset"
      ],
      "metadata": {
        "id": "76ee4lJxChdQ"
      }
    },
    {
      "cell_type": "markdown",
      "source": [
        "*With ADAM Optimizer and With Dropout*"
      ],
      "metadata": {
        "id": "DJ39YIKL-hv4"
      }
    },
    {
      "cell_type": "code",
      "source": [
        "model2 = Sequential([\n",
        "    \n",
        "    \n",
        "    # dense layer 1\n",
        "    Dense( X_res.shape[1], activation='relu'),  \n",
        "    Dropout(0.2),\n",
        "    \n",
        "    # dense layer 2\n",
        "    Dense(128, activation='relu'), \n",
        "    Dropout(0.2),\n",
        "    \n",
        "      # output layer\n",
        "    Dense(25, activation='sigmoid'),  \n",
        "])"
      ],
      "metadata": {
        "id": "Om69N9wCZnR2"
      },
      "execution_count": null,
      "outputs": []
    },
    {
      "cell_type": "code",
      "source": [
        "model2.compile(optimizer='adam',\n",
        "              loss='sparse_categorical_crossentropy',\n",
        "              metrics=['accuracy'])"
      ],
      "metadata": {
        "id": "Ai2fjAX3h7FY"
      },
      "execution_count": null,
      "outputs": []
    },
    {
      "cell_type": "code",
      "source": [
        "logdir='logs'\n",
        "tensorboard_callback = tf.keras.callbacks.TensorBoard(log_dir=logdir)\n",
        "hist=model2.fit(X_res, y_res, epochs=10, \n",
        "          batch_size=2000, \n",
        "          validation_split=0.2)"
      ],
      "metadata": {
        "colab": {
          "base_uri": "https://localhost:8080/"
        },
        "id": "gtScP4uGiVyj",
        "outputId": "e83c9195-b44b-4a4e-a758-be1ccf16b05f"
      },
      "execution_count": null,
      "outputs": [
        {
          "output_type": "stream",
          "name": "stdout",
          "text": [
            "Epoch 1/10\n",
            "13/13 [==============================] - 2s 131ms/step - loss: 2.1091 - accuracy: 0.3918 - val_loss: 0.8483 - val_accuracy: 0.7944\n",
            "Epoch 2/10\n",
            "13/13 [==============================] - 2s 119ms/step - loss: 0.7832 - accuracy: 0.7581 - val_loss: 0.2725 - val_accuracy: 0.9504\n",
            "Epoch 3/10\n",
            "13/13 [==============================] - 2s 120ms/step - loss: 0.3548 - accuracy: 0.8974 - val_loss: 0.1017 - val_accuracy: 0.9886\n",
            "Epoch 4/10\n",
            "13/13 [==============================] - 2s 120ms/step - loss: 0.1694 - accuracy: 0.9620 - val_loss: 0.0366 - val_accuracy: 0.9998\n",
            "Epoch 5/10\n",
            "13/13 [==============================] - 2s 121ms/step - loss: 0.0938 - accuracy: 0.9825 - val_loss: 0.0175 - val_accuracy: 0.9998\n",
            "Epoch 6/10\n",
            "13/13 [==============================] - 2s 119ms/step - loss: 0.0573 - accuracy: 0.9915 - val_loss: 0.0091 - val_accuracy: 1.0000\n",
            "Epoch 7/10\n",
            "13/13 [==============================] - 2s 119ms/step - loss: 0.0399 - accuracy: 0.9952 - val_loss: 0.0053 - val_accuracy: 1.0000\n",
            "Epoch 8/10\n",
            "13/13 [==============================] - 2s 120ms/step - loss: 0.0291 - accuracy: 0.9966 - val_loss: 0.0037 - val_accuracy: 1.0000\n",
            "Epoch 9/10\n",
            "13/13 [==============================] - 2s 121ms/step - loss: 0.0229 - accuracy: 0.9974 - val_loss: 0.0028 - val_accuracy: 1.0000\n",
            "Epoch 10/10\n",
            "13/13 [==============================] - 2s 121ms/step - loss: 0.0186 - accuracy: 0.9982 - val_loss: 0.0020 - val_accuracy: 1.0000\n"
          ]
        }
      ]
    },
    {
      "cell_type": "code",
      "source": [
        "fig = plt.figure()\n",
        "plt.plot(hist.history['accuracy'], color='teal', label='accuracy')\n",
        "plt.plot(hist.history['val_accuracy'], color='orange', label='val_accuracy')\n",
        "fig.suptitle('Accuracy', fontsize=20)\n",
        "plt.legend(loc=\"upper left\")\n",
        "plt.show()\n",
        "fig = plt.figure()\n",
        "plt.plot(hist.history['loss'], color='teal', label='loss')\n",
        "plt.plot(hist.history['val_loss'], color='orange', label='val_loss')\n",
        "fig.suptitle('Loss', fontsize=20)\n",
        "plt.legend(loc=\"upper left\")\n",
        "plt.show()"
      ],
      "metadata": {
        "colab": {
          "base_uri": "https://localhost:8080/",
          "height": 571
        },
        "id": "3GVyygD2_IHg",
        "outputId": "6c718220-5383-471a-c226-31478c931ef7"
      },
      "execution_count": null,
      "outputs": [
        {
          "output_type": "display_data",
          "data": {
            "text/plain": [
              "<Figure size 432x288 with 1 Axes>"
            ],
            "image/png": "[encoded data removed]"
          },
          "metadata": {
            "needs_background": "light"
          }
        },
        {
          "output_type": "display_data",
          "data": {
            "text/plain": [
              "<Figure size 432x288 with 1 Axes>"
            ],
            "image/png": "[encoded data removed]"
          },
          "metadata": {
            "needs_background": "light"
          }
        }
      ]
    },
    {
      "cell_type": "code",
      "source": [
        "results = model2.evaluate(test_img,  test_labels, verbose = 0)\n",
        "print('test loss, test acc:', results)"
      ],
      "metadata": {
        "id": "eL6j9Gd-idA0",
        "colab": {
          "base_uri": "https://localhost:8080/"
        },
        "outputId": "9355cf5a-499b-434b-9e59-59c7b1793791"
      },
      "execution_count": null,
      "outputs": [
        {
          "output_type": "stream",
          "name": "stdout",
          "text": [
            "test loss, test acc: [0.7115587592124939, 0.8287785649299622]\n"
          ]
        }
      ]
    },
    {
      "cell_type": "markdown",
      "source": [
        "*With SGD Optimizer and With Dropout*"
      ],
      "metadata": {
        "id": "cjWz3BHT-lTO"
      }
    },
    {
      "cell_type": "code",
      "source": [
        "model3 = Sequential([\n",
        "    \n",
        "    \n",
        "    # dense layer 1\n",
        "    Dense( X_res.shape[1], activation='relu'),  \n",
        "    Dropout(0.2),\n",
        "    \n",
        "    # dense layer 2\n",
        "    Dense(128, activation='relu'), \n",
        "    Dropout(0.2),\n",
        "    \n",
        "      # output layer\n",
        "    Dense(25, activation='sigmoid'),  \n",
        "])"
      ],
      "metadata": {
        "id": "triWC6-1im6E"
      },
      "execution_count": null,
      "outputs": []
    },
    {
      "cell_type": "code",
      "source": [
        "model3.compile(optimizer='SGD',\n",
        "              loss='sparse_categorical_crossentropy',\n",
        "              metrics=['accuracy'])"
      ],
      "metadata": {
        "id": "g9Te4a1AiqG-"
      },
      "execution_count": null,
      "outputs": []
    },
    {
      "cell_type": "code",
      "source": [
        "logdir='logs'\n",
        "tensorboard_callback = tf.keras.callbacks.TensorBoard(log_dir=logdir)\n",
        "hist=model3.fit(X_res, y_res, epochs=150, \n",
        "          batch_size=2000, \n",
        "          validation_split=0.2)"
      ],
      "metadata": {
        "colab": {
          "base_uri": "https://localhost:8080/"
        },
        "id": "wkav-nstissN",
        "outputId": "4fefde51-98c3-481b-94fb-0d95337a48ff"
      },
      "execution_count": null,
      "outputs": [
        {
          "output_type": "stream",
          "name": "stdout",
          "text": [
            "Epoch 1/150\n",
            "13/13 [==============================] - 2s 128ms/step - loss: 3.5669 - accuracy: 0.0514 - val_loss: 3.1900 - val_accuracy: 0.0839\n",
            "Epoch 2/150\n",
            "13/13 [==============================] - 2s 120ms/step - loss: 3.1861 - accuracy: 0.0912 - val_loss: 2.9577 - val_accuracy: 0.1502\n",
            "Epoch 3/150\n",
            "13/13 [==============================] - 1s 116ms/step - loss: 2.9906 - accuracy: 0.1338 - val_loss: 2.7921 - val_accuracy: 0.2176\n",
            "Epoch 4/150\n",
            "13/13 [==============================] - 2s 118ms/step - loss: 2.8399 - accuracy: 0.1758 - val_loss: 2.6492 - val_accuracy: 0.2822\n",
            "Epoch 5/150\n",
            "13/13 [==============================] - 1s 115ms/step - loss: 2.7153 - accuracy: 0.2141 - val_loss: 2.5157 - val_accuracy: 0.3410\n",
            "Epoch 6/150\n",
            "13/13 [==============================] - 2s 119ms/step - loss: 2.5929 - accuracy: 0.2552 - val_loss: 2.3903 - val_accuracy: 0.3917\n",
            "Epoch 7/150\n",
            "13/13 [==============================] - 2s 117ms/step - loss: 2.4741 - accuracy: 0.2967 - val_loss: 2.2689 - val_accuracy: 0.4401\n",
            "Epoch 8/150\n",
            "13/13 [==============================] - 2s 117ms/step - loss: 2.3729 - accuracy: 0.3269 - val_loss: 2.1537 - val_accuracy: 0.4834\n",
            "Epoch 9/150\n",
            "13/13 [==============================] - 2s 116ms/step - loss: 2.2771 - accuracy: 0.3624 - val_loss: 2.0446 - val_accuracy: 0.5230\n",
            "Epoch 10/150\n",
            "13/13 [==============================] - 1s 116ms/step - loss: 2.1765 - accuracy: 0.3914 - val_loss: 1.9412 - val_accuracy: 0.5494\n",
            "Epoch 11/150\n",
            "13/13 [==============================] - 2s 117ms/step - loss: 2.0944 - accuracy: 0.4171 - val_loss: 1.8433 - val_accuracy: 0.5860\n",
            "Epoch 12/150\n",
            "13/13 [==============================] - 2s 117ms/step - loss: 1.9987 - accuracy: 0.4459 - val_loss: 1.7508 - val_accuracy: 0.6119\n",
            "Epoch 13/150\n",
            "13/13 [==============================] - 2s 118ms/step - loss: 1.9218 - accuracy: 0.4662 - val_loss: 1.6644 - val_accuracy: 0.6351\n",
            "Epoch 14/150\n",
            "13/13 [==============================] - 2s 117ms/step - loss: 1.8510 - accuracy: 0.4861 - val_loss: 1.5851 - val_accuracy: 0.6563\n",
            "Epoch 15/150\n",
            "13/13 [==============================] - 2s 117ms/step - loss: 1.7722 - accuracy: 0.5069 - val_loss: 1.5107 - val_accuracy: 0.6739\n",
            "Epoch 16/150\n",
            "13/13 [==============================] - 2s 117ms/step - loss: 1.7090 - accuracy: 0.5295 - val_loss: 1.4420 - val_accuracy: 0.6874\n",
            "Epoch 17/150\n",
            "13/13 [==============================] - 2s 116ms/step - loss: 1.6447 - accuracy: 0.5392 - val_loss: 1.3789 - val_accuracy: 0.7024\n",
            "Epoch 18/150\n",
            "13/13 [==============================] - 2s 118ms/step - loss: 1.5850 - accuracy: 0.5594 - val_loss: 1.3203 - val_accuracy: 0.7160\n",
            "Epoch 19/150\n",
            "13/13 [==============================] - 1s 116ms/step - loss: 1.5366 - accuracy: 0.5762 - val_loss: 1.2636 - val_accuracy: 0.7294\n",
            "Epoch 20/150\n",
            "13/13 [==============================] - 2s 116ms/step - loss: 1.4824 - accuracy: 0.5883 - val_loss: 1.2118 - val_accuracy: 0.7381\n",
            "Epoch 21/150\n",
            "13/13 [==============================] - 1s 116ms/step - loss: 1.4423 - accuracy: 0.6002 - val_loss: 1.1642 - val_accuracy: 0.7477\n",
            "Epoch 22/150\n",
            "13/13 [==============================] - 2s 121ms/step - loss: 1.3918 - accuracy: 0.6123 - val_loss: 1.1189 - val_accuracy: 0.7577\n",
            "Epoch 23/150\n",
            "13/13 [==============================] - 1s 116ms/step - loss: 1.3525 - accuracy: 0.6257 - val_loss: 1.0771 - val_accuracy: 0.7696\n",
            "Epoch 24/150\n",
            "13/13 [==============================] - 2s 118ms/step - loss: 1.3148 - accuracy: 0.6373 - val_loss: 1.0377 - val_accuracy: 0.7787\n",
            "Epoch 25/150\n",
            "13/13 [==============================] - 1s 114ms/step - loss: 1.2676 - accuracy: 0.6474 - val_loss: 0.9999 - val_accuracy: 0.7888\n",
            "Epoch 26/150\n",
            "13/13 [==============================] - 1s 116ms/step - loss: 1.2367 - accuracy: 0.6589 - val_loss: 0.9658 - val_accuracy: 0.7952\n",
            "Epoch 27/150\n",
            "13/13 [==============================] - 1s 115ms/step - loss: 1.2040 - accuracy: 0.6637 - val_loss: 0.9336 - val_accuracy: 0.8055\n",
            "Epoch 28/150\n",
            "13/13 [==============================] - 2s 117ms/step - loss: 1.1707 - accuracy: 0.6776 - val_loss: 0.9024 - val_accuracy: 0.8150\n",
            "Epoch 29/150\n",
            "13/13 [==============================] - 2s 119ms/step - loss: 1.1391 - accuracy: 0.6850 - val_loss: 0.8736 - val_accuracy: 0.8223\n",
            "Epoch 30/150\n",
            "13/13 [==============================] - 3s 196ms/step - loss: 1.1070 - accuracy: 0.6957 - val_loss: 0.8460 - val_accuracy: 0.8308\n",
            "Epoch 31/150\n",
            "13/13 [==============================] - 2s 134ms/step - loss: 1.0816 - accuracy: 0.7054 - val_loss: 0.8188 - val_accuracy: 0.8350\n",
            "Epoch 32/150\n",
            "13/13 [==============================] - 2s 116ms/step - loss: 1.0545 - accuracy: 0.7073 - val_loss: 0.7942 - val_accuracy: 0.8405\n",
            "Epoch 33/150\n",
            "13/13 [==============================] - 1s 116ms/step - loss: 1.0342 - accuracy: 0.7136 - val_loss: 0.7710 - val_accuracy: 0.8458\n",
            "Epoch 34/150\n",
            "13/13 [==============================] - 1s 115ms/step - loss: 1.0091 - accuracy: 0.7213 - val_loss: 0.7492 - val_accuracy: 0.8495\n",
            "Epoch 35/150\n",
            "13/13 [==============================] - 2s 116ms/step - loss: 0.9802 - accuracy: 0.7338 - val_loss: 0.7278 - val_accuracy: 0.8571\n",
            "Epoch 36/150\n",
            "13/13 [==============================] - 2s 116ms/step - loss: 0.9587 - accuracy: 0.7372 - val_loss: 0.7070 - val_accuracy: 0.8628\n",
            "Epoch 37/150\n",
            "13/13 [==============================] - 2s 117ms/step - loss: 0.9388 - accuracy: 0.7457 - val_loss: 0.6876 - val_accuracy: 0.8688\n",
            "Epoch 38/150\n",
            "13/13 [==============================] - 1s 116ms/step - loss: 0.9180 - accuracy: 0.7498 - val_loss: 0.6673 - val_accuracy: 0.8740\n",
            "Epoch 39/150\n",
            "13/13 [==============================] - 2s 117ms/step - loss: 0.8977 - accuracy: 0.7555 - val_loss: 0.6493 - val_accuracy: 0.8783\n",
            "Epoch 40/150\n",
            "13/13 [==============================] - 2s 119ms/step - loss: 0.8742 - accuracy: 0.7619 - val_loss: 0.6322 - val_accuracy: 0.8817\n",
            "Epoch 41/150\n",
            "13/13 [==============================] - 1s 114ms/step - loss: 0.8580 - accuracy: 0.7672 - val_loss: 0.6160 - val_accuracy: 0.8865\n",
            "Epoch 42/150\n",
            "13/13 [==============================] - 2s 121ms/step - loss: 0.8449 - accuracy: 0.7706 - val_loss: 0.6008 - val_accuracy: 0.8888\n",
            "Epoch 43/150\n",
            "13/13 [==============================] - 2s 117ms/step - loss: 0.8207 - accuracy: 0.7792 - val_loss: 0.5847 - val_accuracy: 0.8936\n",
            "Epoch 44/150\n",
            "13/13 [==============================] - 2s 118ms/step - loss: 0.8092 - accuracy: 0.7802 - val_loss: 0.5698 - val_accuracy: 0.8973\n",
            "Epoch 45/150\n",
            "13/13 [==============================] - 2s 118ms/step - loss: 0.7923 - accuracy: 0.7853 - val_loss: 0.5557 - val_accuracy: 0.9000\n",
            "Epoch 46/150\n",
            "13/13 [==============================] - 1s 116ms/step - loss: 0.7746 - accuracy: 0.7931 - val_loss: 0.5425 - val_accuracy: 0.9018\n",
            "Epoch 47/150\n",
            "13/13 [==============================] - 1s 116ms/step - loss: 0.7575 - accuracy: 0.7983 - val_loss: 0.5284 - val_accuracy: 0.9052\n",
            "Epoch 48/150\n",
            "13/13 [==============================] - 2s 118ms/step - loss: 0.7489 - accuracy: 0.7984 - val_loss: 0.5150 - val_accuracy: 0.9078\n",
            "Epoch 49/150\n",
            "13/13 [==============================] - 2s 121ms/step - loss: 0.7330 - accuracy: 0.8033 - val_loss: 0.5025 - val_accuracy: 0.9092\n",
            "Epoch 50/150\n",
            "13/13 [==============================] - 2s 119ms/step - loss: 0.7173 - accuracy: 0.8105 - val_loss: 0.4912 - val_accuracy: 0.9126\n",
            "Epoch 51/150\n",
            "13/13 [==============================] - 2s 116ms/step - loss: 0.7035 - accuracy: 0.8148 - val_loss: 0.4799 - val_accuracy: 0.9155\n",
            "Epoch 52/150\n",
            "13/13 [==============================] - 2s 117ms/step - loss: 0.6959 - accuracy: 0.8147 - val_loss: 0.4678 - val_accuracy: 0.9200\n",
            "Epoch 53/150\n",
            "13/13 [==============================] - 2s 118ms/step - loss: 0.6770 - accuracy: 0.8224 - val_loss: 0.4569 - val_accuracy: 0.9234\n",
            "Epoch 54/150\n",
            "13/13 [==============================] - 1s 115ms/step - loss: 0.6694 - accuracy: 0.8225 - val_loss: 0.4456 - val_accuracy: 0.9253\n",
            "Epoch 55/150\n",
            "13/13 [==============================] - 2s 116ms/step - loss: 0.6540 - accuracy: 0.8281 - val_loss: 0.4363 - val_accuracy: 0.9277\n",
            "Epoch 56/150\n",
            "13/13 [==============================] - 2s 116ms/step - loss: 0.6442 - accuracy: 0.8321 - val_loss: 0.4260 - val_accuracy: 0.9305\n",
            "Epoch 57/150\n",
            "13/13 [==============================] - 2s 116ms/step - loss: 0.6285 - accuracy: 0.8362 - val_loss: 0.4164 - val_accuracy: 0.9329\n",
            "Epoch 58/150\n",
            "13/13 [==============================] - 2s 117ms/step - loss: 0.6239 - accuracy: 0.8375 - val_loss: 0.4066 - val_accuracy: 0.9351\n",
            "Epoch 59/150\n",
            "13/13 [==============================] - 2s 116ms/step - loss: 0.6097 - accuracy: 0.8417 - val_loss: 0.3978 - val_accuracy: 0.9364\n",
            "Epoch 60/150\n",
            "13/13 [==============================] - 2s 117ms/step - loss: 0.6039 - accuracy: 0.8413 - val_loss: 0.3892 - val_accuracy: 0.9390\n",
            "Epoch 61/150\n",
            "13/13 [==============================] - 2s 118ms/step - loss: 0.5952 - accuracy: 0.8464 - val_loss: 0.3813 - val_accuracy: 0.9420\n",
            "Epoch 62/150\n",
            "13/13 [==============================] - 2s 119ms/step - loss: 0.5818 - accuracy: 0.8489 - val_loss: 0.3730 - val_accuracy: 0.9443\n",
            "Epoch 63/150\n",
            "13/13 [==============================] - 2s 119ms/step - loss: 0.5682 - accuracy: 0.8572 - val_loss: 0.3642 - val_accuracy: 0.9477\n",
            "Epoch 64/150\n",
            "13/13 [==============================] - 2s 116ms/step - loss: 0.5590 - accuracy: 0.8604 - val_loss: 0.3567 - val_accuracy: 0.9496\n",
            "Epoch 65/150\n",
            "13/13 [==============================] - 2s 119ms/step - loss: 0.5522 - accuracy: 0.8605 - val_loss: 0.3487 - val_accuracy: 0.9520\n",
            "Epoch 66/150\n",
            "13/13 [==============================] - 1s 116ms/step - loss: 0.5412 - accuracy: 0.8637 - val_loss: 0.3413 - val_accuracy: 0.9532\n",
            "Epoch 67/150\n",
            "13/13 [==============================] - 2s 118ms/step - loss: 0.5331 - accuracy: 0.8671 - val_loss: 0.3343 - val_accuracy: 0.9533\n",
            "Epoch 68/150\n",
            "13/13 [==============================] - 2s 118ms/step - loss: 0.5224 - accuracy: 0.8708 - val_loss: 0.3271 - val_accuracy: 0.9556\n",
            "Epoch 69/150\n",
            "13/13 [==============================] - 2s 117ms/step - loss: 0.5165 - accuracy: 0.8688 - val_loss: 0.3204 - val_accuracy: 0.9577\n",
            "Epoch 70/150\n",
            "13/13 [==============================] - 2s 120ms/step - loss: 0.5081 - accuracy: 0.8737 - val_loss: 0.3129 - val_accuracy: 0.9588\n",
            "Epoch 71/150\n",
            "13/13 [==============================] - 2s 119ms/step - loss: 0.5033 - accuracy: 0.8756 - val_loss: 0.3066 - val_accuracy: 0.9604\n",
            "Epoch 72/150\n",
            "13/13 [==============================] - 2s 117ms/step - loss: 0.4904 - accuracy: 0.8794 - val_loss: 0.3006 - val_accuracy: 0.9610\n",
            "Epoch 73/150\n",
            "13/13 [==============================] - 2s 119ms/step - loss: 0.4859 - accuracy: 0.8796 - val_loss: 0.2947 - val_accuracy: 0.9622\n",
            "Epoch 74/150\n",
            "13/13 [==============================] - 2s 117ms/step - loss: 0.4747 - accuracy: 0.8838 - val_loss: 0.2884 - val_accuracy: 0.9638\n",
            "Epoch 75/150\n",
            "13/13 [==============================] - 2s 119ms/step - loss: 0.4727 - accuracy: 0.8863 - val_loss: 0.2827 - val_accuracy: 0.9643\n",
            "Epoch 76/150\n",
            "13/13 [==============================] - 2s 117ms/step - loss: 0.4680 - accuracy: 0.8865 - val_loss: 0.2772 - val_accuracy: 0.9667\n",
            "Epoch 77/150\n",
            "13/13 [==============================] - 2s 118ms/step - loss: 0.4577 - accuracy: 0.8873 - val_loss: 0.2714 - val_accuracy: 0.9678\n",
            "Epoch 78/150\n",
            "13/13 [==============================] - 2s 117ms/step - loss: 0.4550 - accuracy: 0.8885 - val_loss: 0.2653 - val_accuracy: 0.9697\n",
            "Epoch 79/150\n",
            "13/13 [==============================] - 2s 118ms/step - loss: 0.4453 - accuracy: 0.8932 - val_loss: 0.2604 - val_accuracy: 0.9709\n",
            "Epoch 80/150\n",
            "13/13 [==============================] - 2s 119ms/step - loss: 0.4368 - accuracy: 0.8965 - val_loss: 0.2552 - val_accuracy: 0.9725\n",
            "Epoch 81/150\n",
            "13/13 [==============================] - 2s 117ms/step - loss: 0.4271 - accuracy: 0.9001 - val_loss: 0.2503 - val_accuracy: 0.9733\n",
            "Epoch 82/150\n",
            "13/13 [==============================] - 2s 120ms/step - loss: 0.4226 - accuracy: 0.9025 - val_loss: 0.2455 - val_accuracy: 0.9742\n",
            "Epoch 83/150\n",
            "13/13 [==============================] - 2s 117ms/step - loss: 0.4195 - accuracy: 0.8993 - val_loss: 0.2406 - val_accuracy: 0.9754\n",
            "Epoch 84/150\n",
            "13/13 [==============================] - 2s 120ms/step - loss: 0.4101 - accuracy: 0.9036 - val_loss: 0.2362 - val_accuracy: 0.9763\n",
            "Epoch 85/150\n",
            "13/13 [==============================] - 2s 121ms/step - loss: 0.4075 - accuracy: 0.9043 - val_loss: 0.2311 - val_accuracy: 0.9779\n",
            "Epoch 86/150\n",
            "13/13 [==============================] - 2s 118ms/step - loss: 0.4030 - accuracy: 0.9055 - val_loss: 0.2272 - val_accuracy: 0.9783\n",
            "Epoch 87/150\n",
            "13/13 [==============================] - 2s 121ms/step - loss: 0.3973 - accuracy: 0.9069 - val_loss: 0.2232 - val_accuracy: 0.9788\n",
            "Epoch 88/150\n",
            "13/13 [==============================] - 2s 117ms/step - loss: 0.3929 - accuracy: 0.9093 - val_loss: 0.2187 - val_accuracy: 0.9797\n",
            "Epoch 89/150\n",
            "13/13 [==============================] - 2s 118ms/step - loss: 0.3826 - accuracy: 0.9105 - val_loss: 0.2145 - val_accuracy: 0.9805\n",
            "Epoch 90/150\n",
            "13/13 [==============================] - 2s 118ms/step - loss: 0.3815 - accuracy: 0.9123 - val_loss: 0.2104 - val_accuracy: 0.9813\n",
            "Epoch 91/150\n",
            "13/13 [==============================] - 2s 117ms/step - loss: 0.3797 - accuracy: 0.9125 - val_loss: 0.2065 - val_accuracy: 0.9813\n",
            "Epoch 92/150\n",
            "13/13 [==============================] - 1s 116ms/step - loss: 0.3670 - accuracy: 0.9183 - val_loss: 0.2024 - val_accuracy: 0.9821\n",
            "Epoch 93/150\n",
            "13/13 [==============================] - 2s 159ms/step - loss: 0.3676 - accuracy: 0.9153 - val_loss: 0.1988 - val_accuracy: 0.9828\n",
            "Epoch 94/150\n",
            "13/13 [==============================] - 3s 198ms/step - loss: 0.3594 - accuracy: 0.9192 - val_loss: 0.1954 - val_accuracy: 0.9831\n",
            "Epoch 95/150\n",
            "13/13 [==============================] - 3s 221ms/step - loss: 0.3560 - accuracy: 0.9202 - val_loss: 0.1917 - val_accuracy: 0.9834\n",
            "Epoch 96/150\n",
            "13/13 [==============================] - 3s 195ms/step - loss: 0.3526 - accuracy: 0.9207 - val_loss: 0.1883 - val_accuracy: 0.9837\n",
            "Epoch 97/150\n",
            "13/13 [==============================] - 3s 208ms/step - loss: 0.3460 - accuracy: 0.9238 - val_loss: 0.1849 - val_accuracy: 0.9849\n",
            "Epoch 98/150\n",
            "13/13 [==============================] - 3s 207ms/step - loss: 0.3446 - accuracy: 0.9205 - val_loss: 0.1817 - val_accuracy: 0.9852\n",
            "Epoch 99/150\n",
            "13/13 [==============================] - 3s 196ms/step - loss: 0.3340 - accuracy: 0.9284 - val_loss: 0.1784 - val_accuracy: 0.9863\n",
            "Epoch 100/150\n",
            "13/13 [==============================] - 2s 182ms/step - loss: 0.3308 - accuracy: 0.9286 - val_loss: 0.1758 - val_accuracy: 0.9860\n",
            "Epoch 101/150\n",
            "13/13 [==============================] - 3s 200ms/step - loss: 0.3303 - accuracy: 0.9274 - val_loss: 0.1722 - val_accuracy: 0.9871\n",
            "Epoch 102/150\n",
            "13/13 [==============================] - 3s 223ms/step - loss: 0.3260 - accuracy: 0.9298 - val_loss: 0.1693 - val_accuracy: 0.9874\n",
            "Epoch 103/150\n",
            "13/13 [==============================] - 3s 193ms/step - loss: 0.3175 - accuracy: 0.9314 - val_loss: 0.1664 - val_accuracy: 0.9874\n",
            "Epoch 104/150\n",
            "13/13 [==============================] - 2s 186ms/step - loss: 0.3135 - accuracy: 0.9325 - val_loss: 0.1631 - val_accuracy: 0.9879\n",
            "Epoch 105/150\n",
            "13/13 [==============================] - 2s 172ms/step - loss: 0.3113 - accuracy: 0.9335 - val_loss: 0.1602 - val_accuracy: 0.9884\n",
            "Epoch 106/150\n",
            "13/13 [==============================] - 2s 161ms/step - loss: 0.3091 - accuracy: 0.9350 - val_loss: 0.1575 - val_accuracy: 0.9884\n",
            "Epoch 107/150\n",
            "13/13 [==============================] - 2s 137ms/step - loss: 0.3046 - accuracy: 0.9365 - val_loss: 0.1549 - val_accuracy: 0.9887\n",
            "Epoch 108/150\n",
            "13/13 [==============================] - 2s 172ms/step - loss: 0.3038 - accuracy: 0.9368 - val_loss: 0.1524 - val_accuracy: 0.9891\n",
            "Epoch 109/150\n",
            "13/13 [==============================] - 2s 164ms/step - loss: 0.2990 - accuracy: 0.9370 - val_loss: 0.1500 - val_accuracy: 0.9894\n",
            "Epoch 110/150\n",
            "13/13 [==============================] - 2s 167ms/step - loss: 0.2976 - accuracy: 0.9364 - val_loss: 0.1472 - val_accuracy: 0.9895\n",
            "Epoch 111/150\n",
            "13/13 [==============================] - 2s 155ms/step - loss: 0.2872 - accuracy: 0.9403 - val_loss: 0.1446 - val_accuracy: 0.9900\n",
            "Epoch 112/150\n",
            "13/13 [==============================] - 2s 117ms/step - loss: 0.2856 - accuracy: 0.9409 - val_loss: 0.1422 - val_accuracy: 0.9905\n",
            "Epoch 113/150\n",
            "13/13 [==============================] - 2s 121ms/step - loss: 0.2837 - accuracy: 0.9429 - val_loss: 0.1397 - val_accuracy: 0.9905\n",
            "Epoch 114/150\n",
            "13/13 [==============================] - 2s 120ms/step - loss: 0.2766 - accuracy: 0.9438 - val_loss: 0.1376 - val_accuracy: 0.9908\n",
            "Epoch 115/150\n",
            "13/13 [==============================] - 2s 186ms/step - loss: 0.2757 - accuracy: 0.9432 - val_loss: 0.1352 - val_accuracy: 0.9920\n",
            "Epoch 116/150\n",
            "13/13 [==============================] - 2s 146ms/step - loss: 0.2724 - accuracy: 0.9447 - val_loss: 0.1330 - val_accuracy: 0.9923\n",
            "Epoch 117/150\n",
            "13/13 [==============================] - 2s 120ms/step - loss: 0.2706 - accuracy: 0.9449 - val_loss: 0.1309 - val_accuracy: 0.9926\n",
            "Epoch 118/150\n",
            "13/13 [==============================] - 2s 117ms/step - loss: 0.2669 - accuracy: 0.9452 - val_loss: 0.1291 - val_accuracy: 0.9929\n",
            "Epoch 119/150\n",
            "13/13 [==============================] - 2s 119ms/step - loss: 0.2651 - accuracy: 0.9465 - val_loss: 0.1270 - val_accuracy: 0.9931\n",
            "Epoch 120/150\n",
            "13/13 [==============================] - 2s 121ms/step - loss: 0.2660 - accuracy: 0.9451 - val_loss: 0.1248 - val_accuracy: 0.9939\n",
            "Epoch 121/150\n",
            "13/13 [==============================] - 2s 117ms/step - loss: 0.2602 - accuracy: 0.9460 - val_loss: 0.1226 - val_accuracy: 0.9944\n",
            "Epoch 122/150\n",
            "13/13 [==============================] - 2s 116ms/step - loss: 0.2594 - accuracy: 0.9476 - val_loss: 0.1207 - val_accuracy: 0.9948\n",
            "Epoch 123/150\n",
            "13/13 [==============================] - 2s 118ms/step - loss: 0.2527 - accuracy: 0.9485 - val_loss: 0.1189 - val_accuracy: 0.9952\n",
            "Epoch 124/150\n",
            "13/13 [==============================] - 2s 118ms/step - loss: 0.2488 - accuracy: 0.9488 - val_loss: 0.1168 - val_accuracy: 0.9955\n",
            "Epoch 125/150\n",
            "13/13 [==============================] - 2s 119ms/step - loss: 0.2484 - accuracy: 0.9515 - val_loss: 0.1149 - val_accuracy: 0.9955\n",
            "Epoch 126/150\n",
            "13/13 [==============================] - 2s 118ms/step - loss: 0.2461 - accuracy: 0.9533 - val_loss: 0.1129 - val_accuracy: 0.9958\n",
            "Epoch 127/150\n",
            "13/13 [==============================] - 2s 118ms/step - loss: 0.2440 - accuracy: 0.9533 - val_loss: 0.1112 - val_accuracy: 0.9958\n",
            "Epoch 128/150\n",
            "13/13 [==============================] - 1s 115ms/step - loss: 0.2395 - accuracy: 0.9543 - val_loss: 0.1096 - val_accuracy: 0.9958\n",
            "Epoch 129/150\n",
            "13/13 [==============================] - 2s 117ms/step - loss: 0.2384 - accuracy: 0.9542 - val_loss: 0.1078 - val_accuracy: 0.9958\n",
            "Epoch 130/150\n",
            "13/13 [==============================] - 2s 120ms/step - loss: 0.2357 - accuracy: 0.9534 - val_loss: 0.1062 - val_accuracy: 0.9960\n",
            "Epoch 131/150\n",
            "13/13 [==============================] - 2s 117ms/step - loss: 0.2313 - accuracy: 0.9563 - val_loss: 0.1046 - val_accuracy: 0.9963\n",
            "Epoch 132/150\n",
            "13/13 [==============================] - 2s 118ms/step - loss: 0.2301 - accuracy: 0.9555 - val_loss: 0.1029 - val_accuracy: 0.9963\n",
            "Epoch 133/150\n",
            "13/13 [==============================] - 2s 117ms/step - loss: 0.2266 - accuracy: 0.9556 - val_loss: 0.1012 - val_accuracy: 0.9968\n",
            "Epoch 134/150\n",
            "13/13 [==============================] - 2s 118ms/step - loss: 0.2249 - accuracy: 0.9589 - val_loss: 0.0998 - val_accuracy: 0.9969\n",
            "Epoch 135/150\n",
            "13/13 [==============================] - 2s 117ms/step - loss: 0.2208 - accuracy: 0.9595 - val_loss: 0.0983 - val_accuracy: 0.9968\n",
            "Epoch 136/150\n",
            "13/13 [==============================] - 2s 117ms/step - loss: 0.2202 - accuracy: 0.9599 - val_loss: 0.0965 - val_accuracy: 0.9973\n",
            "Epoch 137/150\n",
            "13/13 [==============================] - 2s 117ms/step - loss: 0.2152 - accuracy: 0.9596 - val_loss: 0.0954 - val_accuracy: 0.9973\n",
            "Epoch 138/150\n",
            "13/13 [==============================] - 2s 118ms/step - loss: 0.2193 - accuracy: 0.9600 - val_loss: 0.0939 - val_accuracy: 0.9974\n",
            "Epoch 139/150\n",
            "13/13 [==============================] - 2s 117ms/step - loss: 0.2132 - accuracy: 0.9609 - val_loss: 0.0926 - val_accuracy: 0.9976\n",
            "Epoch 140/150\n",
            "13/13 [==============================] - 2s 118ms/step - loss: 0.2104 - accuracy: 0.9612 - val_loss: 0.0912 - val_accuracy: 0.9979\n",
            "Epoch 141/150\n",
            "13/13 [==============================] - 2s 118ms/step - loss: 0.2106 - accuracy: 0.9604 - val_loss: 0.0898 - val_accuracy: 0.9979\n",
            "Epoch 142/150\n",
            "13/13 [==============================] - 2s 117ms/step - loss: 0.2062 - accuracy: 0.9624 - val_loss: 0.0885 - val_accuracy: 0.9982\n",
            "Epoch 143/150\n",
            "13/13 [==============================] - 1s 115ms/step - loss: 0.2047 - accuracy: 0.9626 - val_loss: 0.0871 - val_accuracy: 0.9982\n",
            "Epoch 144/150\n",
            "13/13 [==============================] - 2s 117ms/step - loss: 0.2037 - accuracy: 0.9628 - val_loss: 0.0856 - val_accuracy: 0.9986\n",
            "Epoch 145/150\n",
            "13/13 [==============================] - 2s 150ms/step - loss: 0.2013 - accuracy: 0.9639 - val_loss: 0.0845 - val_accuracy: 0.9986\n",
            "Epoch 146/150\n",
            "13/13 [==============================] - 2s 191ms/step - loss: 0.1989 - accuracy: 0.9648 - val_loss: 0.0836 - val_accuracy: 0.9986\n",
            "Epoch 147/150\n",
            "13/13 [==============================] - 2s 119ms/step - loss: 0.1980 - accuracy: 0.9643 - val_loss: 0.0824 - val_accuracy: 0.9987\n",
            "Epoch 148/150\n",
            "13/13 [==============================] - 2s 120ms/step - loss: 0.1945 - accuracy: 0.9651 - val_loss: 0.0812 - val_accuracy: 0.9987\n",
            "Epoch 149/150\n",
            "13/13 [==============================] - 2s 118ms/step - loss: 0.1915 - accuracy: 0.9665 - val_loss: 0.0802 - val_accuracy: 0.9990\n",
            "Epoch 150/150\n",
            "13/13 [==============================] - 2s 117ms/step - loss: 0.1929 - accuracy: 0.9653 - val_loss: 0.0789 - val_accuracy: 0.9990\n"
          ]
        }
      ]
    },
    {
      "cell_type": "code",
      "source": [
        "fig = plt.figure()\n",
        "plt.plot(hist.history['accuracy'], color='teal', label='accuracy')\n",
        "plt.plot(hist.history['val_accuracy'], color='orange', label='val_accuracy')\n",
        "fig.suptitle('Accuracy', fontsize=20)\n",
        "plt.legend(loc=\"upper left\")\n",
        "plt.show()\n",
        "fig = plt.figure()\n",
        "plt.plot(hist.history['loss'], color='teal', label='loss')\n",
        "plt.plot(hist.history['val_loss'], color='orange', label='val_loss')\n",
        "fig.suptitle('Loss', fontsize=20)\n",
        "plt.legend(loc=\"upper left\")\n",
        "plt.show()"
      ],
      "metadata": {
        "colab": {
          "base_uri": "https://localhost:8080/",
          "height": 571
        },
        "id": "wQ-I3zaG_LbO",
        "outputId": "0eeb1672-655a-4a25-cb00-19dd798ddfb4"
      },
      "execution_count": null,
      "outputs": [
        {
          "output_type": "display_data",
          "data": {
            "text/plain": [
              "<Figure size 432x288 with 1 Axes>"
            ],
            "image/png": "[encoded data removed]"
          },
          "metadata": {
            "needs_background": "light"
          }
        },
        {
          "output_type": "display_data",
          "data": {
            "text/plain": [
              "<Figure size 432x288 with 1 Axes>"
            ],
            "image/png": "[encoded data removed]"
          },
          "metadata": {
            "needs_background": "light"
          }
        }
      ]
    },
    {
      "cell_type": "code",
      "source": [
        "results = model3.evaluate(test_img,  test_labels, verbose = 0)\n",
        "print('test loss, test acc:', results)"
      ],
      "metadata": {
        "colab": {
          "base_uri": "https://localhost:8080/"
        },
        "id": "CErLJIdBkTt2",
        "outputId": "bb75bb4e-7de7-424c-ba9d-088f8de69c63"
      },
      "execution_count": null,
      "outputs": [
        {
          "output_type": "stream",
          "name": "stdout",
          "text": [
            "test loss, test acc: [0.6956127285957336, 0.7900167107582092]\n"
          ]
        }
      ]
    },
    {
      "cell_type": "markdown",
      "source": [
        "Dropout is a technique where randomly selected neurons are ignored during training. They are “dropped out” randomly. This means that their contribution to the activation of downstream neurons is temporally removed on the forward pass, and any weight updates are not applied to the neuron on the backward pass.\n",
        "Dropout has the effect of making the training process noisy, forcing nodes within a layer to probabilistically take on more or less responsibility for the inputs."
      ],
      "metadata": {
        "id": "PZGEgrE3DrQr"
      }
    },
    {
      "cell_type": "markdown",
      "source": [
        "By adding dropout we need more epochs to train model and at the end we have better accuracy for Adam optimizer. for SGD optimizer we need more epochs too but at the end we don't get better accuracy."
      ],
      "metadata": {
        "id": "a-1G4TaZC1U7"
      }
    },
    {
      "cell_type": "markdown",
      "source": [
        "The best model is Adam optimizer with dropout ---> accuracy on test = 82.9%"
      ],
      "metadata": {
        "id": "Grk7LU9oD7wt"
      }
    },
    {
      "cell_type": "code",
      "source": [
        "def preprocessMe(image):\n",
        "  my= np.array(image).reshape((784))\n",
        "  my=preprocessing.scale(my )\n",
        "  return my"
      ],
      "metadata": {
        "id": "9dhP8CSRvfRL"
      },
      "execution_count": null,
      "outputs": []
    },
    {
      "cell_type": "code",
      "source": [
        "import cv2\n",
        "image=cv2.imread(\"./Data/HW2_data/test/A.jpg\",cv2.IMREAD_GRAYSCALE)\n",
        "resized_img = cv2.resize(image, (28, 28))\n",
        "test1=preprocessMe(resized_img)\n",
        "image=cv2.imread(\"./Data/HW2_data/test/B.jpg\",cv2.IMREAD_GRAYSCALE)\n",
        "resized_img = cv2.resize(image, (28, 28))\n",
        "test2=preprocessMe(resized_img )\n",
        "image=cv2.imread(\"./Data/HW2_data/test/W.jpg\",cv2.IMREAD_GRAYSCALE)\n",
        "resized_img = cv2.resize(image, (28, 28))\n",
        "test3=preprocessMe(resized_img )\n",
        "test= np.array([test1, test2,test3], np.int32)\n",
        "print(test.shape)\n",
        "test_real=np.array([[0],[1],[23]], np.int32)\n",
        "test_real=test_real.reshape(3)\n",
        "print(test_real.shape)"
      ],
      "metadata": {
        "colab": {
          "base_uri": "https://localhost:8080/"
        },
        "id": "JX5JKWF2rS_E",
        "outputId": "183403f2-140f-47f2-8229-593cfa5b361e"
      },
      "execution_count": null,
      "outputs": [
        {
          "output_type": "stream",
          "name": "stdout",
          "text": [
            "(3, 784)\n",
            "(3,)\n"
          ]
        }
      ]
    },
    {
      "cell_type": "code",
      "source": [
        "plt.imshow(test1.reshape(28, 28),cmap = 'gray')"
      ],
      "metadata": {
        "colab": {
          "base_uri": "https://localhost:8080/",
          "height": 282
        },
        "id": "pGJD_011Aroa",
        "outputId": "54aadb26-08f5-4e8c-eda7-288277956d27"
      },
      "execution_count": null,
      "outputs": [
        {
          "output_type": "execute_result",
          "data": {
            "text/plain": [
              "<matplotlib.image.AxesImage at 0x7f78d3fd9760>"
            ]
          },
          "metadata": {},
          "execution_count": 240
        },
        {
          "output_type": "display_data",
          "data": {
            "text/plain": [
              "<Figure size 432x288 with 1 Axes>"
            ],
            "image/png": "[encoded data removed]"
          },
          "metadata": {
            "needs_background": "light"
          }
        }
      ]
    },
    {
      "cell_type": "code",
      "source": [
        "plt.imshow(test2.reshape(28, 28),cmap = 'gray')"
      ],
      "metadata": {
        "colab": {
          "base_uri": "https://localhost:8080/",
          "height": 282
        },
        "id": "TgTJB7McAtPt",
        "outputId": "88e52c86-e2f8-49b8-92ec-b65f7bb727ce"
      },
      "execution_count": null,
      "outputs": [
        {
          "output_type": "execute_result",
          "data": {
            "text/plain": [
              "<matplotlib.image.AxesImage at 0x7f78d42ec490>"
            ]
          },
          "metadata": {},
          "execution_count": 241
        },
        {
          "output_type": "display_data",
          "data": {
            "text/plain": [
              "<Figure size 432x288 with 1 Axes>"
            ],
            "image/png": "[encoded data removed]"
          },
          "metadata": {
            "needs_background": "light"
          }
        }
      ]
    },
    {
      "cell_type": "code",
      "source": [
        "plt.imshow(test3.reshape(28, 28),cmap = 'gray')"
      ],
      "metadata": {
        "colab": {
          "base_uri": "https://localhost:8080/",
          "height": 282
        },
        "id": "--sAE6gmAvvL",
        "outputId": "2dfe99a9-392b-46a3-bbf1-4c5c198ae672"
      },
      "execution_count": null,
      "outputs": [
        {
          "output_type": "execute_result",
          "data": {
            "text/plain": [
              "<matplotlib.image.AxesImage at 0x7f78beb6ef10>"
            ]
          },
          "metadata": {},
          "execution_count": 242
        },
        {
          "output_type": "display_data",
          "data": {
            "text/plain": [
              "<Figure size 432x288 with 1 Axes>"
            ],
            "image/png": "[encoded data removed]"
          },
          "metadata": {
            "needs_background": "light"
          }
        }
      ]
    },
    {
      "cell_type": "code",
      "source": [
        "x=test_img\n",
        "y= test_labels\n",
        "x[0,:]=test1\n",
        "x[1,:]=test2\n",
        "x[2,:]=test3\n",
        "y[0]=0\n",
        "y[1]=1\n",
        "y[2]=23\n",
        "e= model2.evaluate(x[0:2,:],  y[0:2], verbose = 1)"
      ],
      "metadata": {
        "colab": {
          "base_uri": "https://localhost:8080/"
        },
        "id": "rbkIHFMHupn0",
        "outputId": "0c03a855-237a-47fc-b960-c260bead2797"
      },
      "execution_count": null,
      "outputs": [
        {
          "output_type": "stream",
          "name": "stdout",
          "text": [
            "1/1 [==============================] - 0s 17ms/step - loss: 9.0569 - accuracy: 0.0000e+00\n"
          ]
        }
      ]
    }
  ]
}