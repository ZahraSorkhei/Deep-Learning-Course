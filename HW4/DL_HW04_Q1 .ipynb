{
  "cells": [
    {
      "cell_type": "markdown",
      "metadata": {
        "id": "MfZys34kqfvl"
      },
      "source": [
        "### Libraries"
      ]
    },
    {
      "cell_type": "code",
      "execution_count": null,
      "metadata": {
        "id": "sGbXoZm1trtF"
      },
      "outputs": [],
      "source": [
        "from __future__ import unicode_literals, print_function, division\n",
        "from io import open\n",
        "import unicodedata\n",
        "import string\n",
        "import re\n",
        "import random\n",
        "\n",
        "import torch\n",
        "import torch.nn as nn\n",
        "from torch import optim\n",
        "import torch.nn.functional as F\n",
        "\n",
        "device = torch.device(\"cuda\" if torch.cuda.is_available() else \"cpu\")"
      ]
    },
    {
      "cell_type": "markdown",
      "metadata": {
        "id": "ytb8VSaeqj7c"
      },
      "source": [
        "### Processing Dataset"
      ]
    },
    {
      "cell_type": "code",
      "execution_count": null,
      "metadata": {
        "id": "6Un5E2-auKtW"
      },
      "outputs": [],
      "source": [
        "class Lang:\n",
        "    def __init__(self, name):\n",
        "        self.name = name\n",
        "        self.word2index = {}\n",
        "        self.word2count = {}\n",
        "        self.index2word = {0: \"SOS\", 1: \"EOS\"}\n",
        "        self.n_words = 2  # Count SOS and EOS\n",
        "\n",
        "    def addSentence(self, sentence):\n",
        "        for word in sentence.split(' '):\n",
        "            self.addWord(word)\n",
        "\n",
        "    def addWord(self, word):\n",
        "        if word not in self.word2index:\n",
        "            self.word2index[word] = self.n_words\n",
        "            self.word2count[word] = 1\n",
        "            self.index2word[self.n_words] = word\n",
        "            self.n_words += 1\n",
        "        else:\n",
        "            self.word2count[word] += 1"
      ]
    },
    {
      "cell_type": "code",
      "execution_count": null,
      "metadata": {
        "id": "IZzXd1PUts3E"
      },
      "outputs": [],
      "source": [
        "def readLangs(ds_path = \"ferdousi.txt\"):\n",
        "    print(\"Reading lines...\")\n",
        "    input_lang = Lang('lang1')\n",
        "    output_lang = Lang('lang1')\n",
        "    input_lines = []\n",
        "    target_lines = []\n",
        "    sentences = []\n",
        "    lastLine = 'test'\n",
        "    i=0\n",
        "    with open(ds_path) as f:\n",
        "      for line in f.readlines():\n",
        "        i+=1\n",
        "        if(i>=3):\n",
        "          if((i % 4 ==0 or i % 4 ==2 )and i<99220):\n",
        "            input_lines.append(lastLine.split('\\n')[0] +\" / \"+line.split('\\n')[0])\n",
        "            input_lang.addSentence(lastLine.split('\\n')[0] +\" / \"+line.split('\\n')[0])\n",
        "          if((i % 4 ==0 or i % 4 ==2 )and i>4):\n",
        "            target_lines.append(lastLine.split('\\n')[0] +\" / \"+line.split('\\n')[0])\n",
        "            output_lang.addSentence(lastLine.split('\\n')[0] +\" / \"+line.split('\\n')[0])\n",
        "          lastLine = line\n",
        "      for i in range(len(input_lines)):\n",
        "        sentences.append((input_lines[i],target_lines[i]))\n",
        "    return input_lang,output_lang,input_lines,target_lines,sentences"
      ]
    },
    {
      "cell_type": "code",
      "execution_count": null,
      "metadata": {
        "colab": {
          "base_uri": "https://localhost:8080/"
        },
        "id": "qtQW30k6wcWJ",
        "outputId": "1c083aff-863f-4d25-b84c-aee213125b8e"
      },
      "outputs": [
        {
          "name": "stdout",
          "output_type": "stream",
          "text": [
            "Reading lines...\n",
            "به نام خداوند جان و خرد / کزین برتر اندیشه برنگذرد\n",
            "خداوند نام و خداوند جای / خداوند روزی ده رهنمای\n"
          ]
        }
      ],
      "source": [
        "input_lang,output_lang,input_lines,target_lines,sentences= readLangs()\n",
        "input_len = [len(input_lines[i]) for i in range(len(input_lines))]\n",
        "out_len = [len(target_lines[i]) for i in range(len(target_lines))]\n",
        "max_len = max(max(input_len),max(out_len))\n",
        "print(input_lines[0])\n",
        "print(target_lines[0])\n"
      ]
    },
    {
      "cell_type": "markdown",
      "metadata": {
        "id": "1hkg29S8qp1k"
      },
      "source": [
        "### Encoder & Decoder for GRU"
      ]
    },
    {
      "cell_type": "code",
      "execution_count": null,
      "metadata": {
        "id": "kHk96ptDw_Oe"
      },
      "outputs": [],
      "source": [
        "class EncoderRNN(nn.Module):\n",
        "    def __init__(self, input_size, hidden_size):\n",
        "        super().__init__()\n",
        "        self.input_size = input_size\n",
        "        self.hidden_size = hidden_size\n",
        "        self.embedding = nn.Embedding(input_size, hidden_size)\n",
        "        self.gru = nn.GRU(hidden_size, hidden_size)\n",
        "\n",
        "    def forward(self, x, h):\n",
        "        embedded = self.embedding(x).view(1, 1, -1)\n",
        "        output, hidden = self.gru(embedded, h)\n",
        "        return output, hidden\n",
        "\n",
        "    def initHidden(self):\n",
        "        return torch.zeros(1, 1, self.hidden_size, device=device)\n",
        "class DecoderRNN(nn.Module):\n",
        "    def __init__(self, hidden_size, output_size):\n",
        "        super().__init__()\n",
        "        self.hidden_size = hidden_size\n",
        "        self.output_size = output_size\n",
        "        self.embedding = nn.Embedding(output_size, hidden_size)\n",
        "        self.gru = nn.GRU(hidden_size, hidden_size)\n",
        "        self.out = nn.Linear(hidden_size, output_size)\n",
        "        self.softmax = nn.LogSoftmax(dim=1)\n",
        "\n",
        "    def forward(self, x, h):\n",
        "        output = self.embedding(x).view(1, 1, -1)\n",
        "        output = F.relu(output)\n",
        "        output, hidden = self.gru(output, h)\n",
        "        output = self.softmax(self.out(output[0]))\n",
        "        return output, hidden\n",
        "\n",
        "    def initHidden(self):\n",
        "        return torch.zeros(1, 1, self.hidden_size, device=device)"
      ]
    },
    {
      "cell_type": "markdown",
      "metadata": {
        "id": "L7qOdgR0qyIL"
      },
      "source": [
        "### Training and Evalutaing"
      ]
    },
    {
      "cell_type": "code",
      "execution_count": null,
      "metadata": {
        "id": "dUOnDcw0xnJ-"
      },
      "outputs": [],
      "source": [
        "def indexesFromSentence(lang, sentence):\n",
        "    return [lang.word2index[word] for word in sentence.split(' ')]\n",
        "\n",
        "\n",
        "def tensorFromSentence(lang, sentence):\n",
        "    SOS_token = 0\n",
        "    EOS_token = 1\n",
        "    indexes = indexesFromSentence(lang, sentence)\n",
        "    indexes.append(EOS_token)\n",
        "    return torch.tensor(indexes, dtype=torch.long, device=device).view(-1, 1)\n",
        "\n",
        "\n",
        "def tensorsFromPair(pair):\n",
        "    input_tensor = tensorFromSentence(input_lang, pair[0])\n",
        "    target_tensor = tensorFromSentence(output_lang, pair[1])\n",
        "    return (input_tensor, target_tensor)"
      ]
    },
    {
      "cell_type": "code",
      "execution_count": null,
      "metadata": {
        "id": "IFHVzpWV65ah"
      },
      "outputs": [],
      "source": [
        "def train(input_tensor, target_tensor, encoder, decoder, encoder_optimizer, decoder_optimizer, criterion, max_length , mode='GRU'):\n",
        "    SOS_token = 0\n",
        "    EOS_token = 1\n",
        "    encoder_hidden = encoder.initHidden()\n",
        "    if(mode == 'LSTM'):\n",
        "      encoder_hidden = (encoder.initHidden(), torch.zeros_like(encoder.initHidden()))\n",
        "\n",
        "    encoder_optimizer.zero_grad()\n",
        "    decoder_optimizer.zero_grad()\n",
        "\n",
        "    input_length = input_tensor.size(0)\n",
        "    target_length = target_tensor.size(0)\n",
        "\n",
        "    encoder_outputs = torch.zeros(max_length, encoder.hidden_size, device=device)\n",
        "\n",
        "    loss = 0\n",
        "    acc = 0\n",
        "    for ei in range(input_length):\n",
        "        encoder_output, encoder_hidden = encoder(input_tensor[ei], encoder_hidden)\n",
        "        encoder_outputs[ei] = encoder_output[0, 0]\n",
        "\n",
        "    decoder_input = torch.tensor([[SOS_token]], device=device)\n",
        "\n",
        "    decoder_hidden = encoder_hidden\n",
        "\n",
        "    use_teacher_forcing = True\n",
        "\n",
        "    if use_teacher_forcing:\n",
        "        # Teacher forcing: Feed the target as the next input\n",
        "        for di in range(target_length):\n",
        "            decoder_output, decoder_hidden = decoder(decoder_input, decoder_hidden)\n",
        "            loss += criterion(decoder_output, target_tensor[di])\n",
        "            acc = acc+1 if torch.argmax(decoder_output) == target_tensor[di] else acc\n",
        "            decoder_input = target_tensor[di]  # Teacher forcing\n",
        "\n",
        "    loss.backward()\n",
        "\n",
        "    encoder_optimizer.step()\n",
        "    decoder_optimizer.step()\n",
        "\n",
        "    return loss.item() / target_length , acc / target_length\n"
      ]
    },
    {
      "cell_type": "code",
      "execution_count": null,
      "metadata": {
        "id": "RF4IDCId-Yyf"
      },
      "outputs": [],
      "source": [
        "def trainIters(pairs, encoder, decoder, input_lang , output_lang, max_length, print_every=5000, learning_rate=0.025 , mode='GRU'):\n",
        "    n_iters = 75000\n",
        "    plot_losses = []\n",
        "    plot_acc = []\n",
        "    print_loss_total = 0  # Reset every print_every\n",
        "    plot_loss_total = 0  # Reset every plot_every\n",
        "    print_acc_total = 0\n",
        "    encoder_optimizer = optim.Adam(encoder.parameters(), lr=learning_rate)\n",
        "    decoder_optimizer = optim.Adam(decoder.parameters(), lr=learning_rate)\n",
        "\n",
        "    criterion = nn.CrossEntropyLoss()\n",
        "\n",
        "    iter = 0 \n",
        "    for train_sen in pairs:\n",
        "        input_tensor = tensorFromSentence(input_lang, train_sen[0])\n",
        "        target_tensor = tensorFromSentence(output_lang, train_sen[1])\n",
        "\n",
        "        loss , acc = train(input_tensor, target_tensor, encoder,decoder, encoder_optimizer, decoder_optimizer, criterion, max_length,mode)\n",
        "        print_loss_total += loss\n",
        "        plot_loss_total += loss\n",
        "        print_acc_total += acc\n",
        "        if iter % print_every == 0 and iter!=0 :\n",
        "            print_loss_avg = print_loss_total / print_every\n",
        "            print_acc_avg = print_acc_total / print_every\n",
        "            print_loss_total = 0\n",
        "            print_acc_total = 0\n",
        "            plot_losses.append(print_loss_avg)\n",
        "            plot_acc.append(print_acc_avg)\n",
        "            print(\"in iteration \",iter,\" of \",len(pairs),\"       Average Loss= \",print_loss_avg, \"       Average Accuracy= \",print_acc_avg)\n",
        "        iter+=1\n",
        "    return plot_acc , plot_losses\n"
      ]
    },
    {
      "cell_type": "code",
      "execution_count": null,
      "metadata": {
        "id": "uEa36kFLIja6"
      },
      "outputs": [],
      "source": [
        "def evaluate(input_lang , encoder, decoder, sentence, max_length , mode = 'GRU'):\n",
        "    SOS_token = 0\n",
        "    EOS_token = 1\n",
        "    with torch.no_grad():\n",
        "        input_tensor = tensorFromSentence(input_lang, sentence)\n",
        "        input_length = input_tensor.size()[0]\n",
        "        encoder_hidden = encoder.initHidden()\n",
        "        if(mode == 'LSTM'):\n",
        "          encoder_hidden = (encoder.initHidden(), torch.zeros_like(encoder.initHidden()))\n",
        "\n",
        "        encoder_outputs = torch.zeros(max_length, encoder.hidden_size, device=device)\n",
        "\n",
        "        for ei in range(input_length):\n",
        "            encoder_output, encoder_hidden = encoder(input_tensor[ei],\n",
        "                                                     encoder_hidden)\n",
        "            encoder_outputs[ei] += encoder_output[0, 0]\n",
        "\n",
        "        decoder_input = torch.tensor([[SOS_token]], device=device)  # SOS\n",
        "\n",
        "        decoder_hidden = encoder_hidden\n",
        "\n",
        "        decoded_words = []\n",
        "\n",
        "        for di in range(max_length):\n",
        "            decoder_output, decoder_hidden = decoder(decoder_input, decoder_hidden)\n",
        "            topv, topi = decoder_output.data.topk(1)\n",
        "            if topi.item() == EOS_token:\n",
        "                decoded_words.append('<EOS>')\n",
        "                break\n",
        "            else:\n",
        "                decoded_words.append(output_lang.index2word[topi.item()])\n",
        "\n",
        "            decoder_input = topi.squeeze().detach()\n",
        "\n",
        "        return decoded_words"
      ]
    },
    {
      "cell_type": "code",
      "execution_count": null,
      "metadata": {
        "id": "vy5RWEAdK7T_"
      },
      "outputs": [],
      "source": [
        "def find_for_val(validation_data ,encoder ,decoder ,input_lang ,max_length , mode ='GRU'):\n",
        "  acc = 0\n",
        "  for i in range(len(validation_data)):\n",
        "    count = 0\n",
        "    predict = evaluate(input_lang , encoder, decoder, validation_data[i][0], max_length,mode)\n",
        "    seq1 = validation_data[i][1].split(\" \")\n",
        "    seq2 = (\" \").join(predict[:-1]).split(\" \")\n",
        "    for i in range(min(len(seq1),len(seq2))):\n",
        "      if(seq1[i]!=seq2[i]):\n",
        "        #print(seq1[i])\n",
        "        #print(seq2[i])\n",
        "        count+=1\n",
        "    count += abs(len(seq1) - len(seq2))\n",
        "    count /= max(len(seq1),len(seq2))\n",
        "    acc += 1 - count\n",
        "  return acc/len(validation_data)\n"
      ]
    },
    {
      "cell_type": "markdown",
      "metadata": {
        "id": "imlR7kutq5_l"
      },
      "source": [
        "### Training for GRU"
      ]
    },
    {
      "cell_type": "code",
      "execution_count": null,
      "metadata": {
        "id": "8gcq1HiM91w0"
      },
      "outputs": [],
      "source": [
        "hidden_size = 100\n",
        "encoder1 = EncoderRNN(input_lang.n_words, hidden_size).to(device)\n",
        "decoder1 = DecoderRNN(hidden_size, output_lang.n_words).to(device)"
      ]
    },
    {
      "cell_type": "code",
      "execution_count": null,
      "metadata": {
        "id": "_bi1B8rQ8y61"
      },
      "outputs": [],
      "source": [
        "train_size = int(len(sentences)*0.9)\n",
        "Val_test_size = int(len(sentences)*0.1)"
      ]
    },
    {
      "cell_type": "code",
      "execution_count": null,
      "metadata": {
        "colab": {
          "base_uri": "https://localhost:8080/"
        },
        "id": "fiRAxmuMPmyh",
        "outputId": "e06ddde1-89c5-49fa-f615-18cf79766009"
      },
      "outputs": [
        {
          "data": {
            "text/plain": [
              "4961"
            ]
          },
          "execution_count": 13,
          "metadata": {},
          "output_type": "execute_result"
        }
      ],
      "source": [
        "len(sentences[train_size:])"
      ]
    },
    {
      "cell_type": "code",
      "execution_count": null,
      "metadata": {
        "colab": {
          "base_uri": "https://localhost:8080/"
        },
        "id": "djH4DoLX_Nl3",
        "outputId": "ffaabae3-1d66-4222-8141-57ef93e792e6"
      },
      "outputs": [
        {
          "name": "stdout",
          "output_type": "stream",
          "text": [
            "#################################### EPOCH number  0\n",
            "in iteration  5000  of  44647        Average Loss=  6.150337399468703        Average Accuracy=  0.18414704378267022\n",
            "in iteration  10000  of  44647        Average Loss=  5.574740184562325        Average Accuracy=  0.21404906412816668\n",
            "in iteration  15000  of  44647        Average Loss=  5.452487425471579        Average Accuracy=  0.23052634711951378\n",
            "in iteration  20000  of  44647        Average Loss=  5.553909120126435        Average Accuracy=  0.23379113070881863\n",
            "in iteration  25000  of  44647        Average Loss=  5.540816990352374        Average Accuracy=  0.23718629051547285\n",
            "in iteration  30000  of  44647        Average Loss=  5.3799818783724875        Average Accuracy=  0.24217828257398125\n",
            "in iteration  35000  of  44647        Average Loss=  5.405989183653317        Average Accuracy=  0.2464695615151994\n",
            "in iteration  40000  of  44647        Average Loss=  5.482932370008991        Average Accuracy=  0.2535329112365139\n",
            "Validation Accuracy=  0.02997000692095967\n",
            "#################################### EPOCH number  1\n",
            "in iteration  5000  of  44647        Average Loss=  5.502011023889392        Average Accuracy=  0.2471296798591882\n",
            "in iteration  10000  of  44647        Average Loss=  5.138037653218983        Average Accuracy=  0.26590045470268\n",
            "in iteration  15000  of  44647        Average Loss=  5.1349742837234        Average Accuracy=  0.2750317072547376\n",
            "in iteration  20000  of  44647        Average Loss=  5.33982361423544        Average Accuracy=  0.26890727653323937\n",
            "in iteration  25000  of  44647        Average Loss=  5.288054706293871        Average Accuracy=  0.27169867158985295\n",
            "in iteration  30000  of  44647        Average Loss=  5.077525253496964        Average Accuracy=  0.27320823559310015\n",
            "in iteration  35000  of  44647        Average Loss=  5.12166636068826        Average Accuracy=  0.27462813310872525\n",
            "in iteration  40000  of  44647        Average Loss=  5.209006573221011        Average Accuracy=  0.2801223055247168\n",
            "Validation Accuracy=  0.03980934173445838\n",
            "#################################### EPOCH number  2\n",
            "in iteration  5000  of  44647        Average Loss=  5.280586050514457        Average Accuracy=  0.2648062428086229\n",
            "in iteration  10000  of  44647        Average Loss=  4.937921536936943        Average Accuracy=  0.2856987399863686\n",
            "in iteration  15000  of  44647        Average Loss=  4.904091128211746        Average Accuracy=  0.2933097214172171\n",
            "in iteration  20000  of  44647        Average Loss=  5.114910287552184        Average Accuracy=  0.2845577871337506\n",
            "in iteration  25000  of  44647        Average Loss=  5.05513156992628        Average Accuracy=  0.2858891129862618\n",
            "in iteration  30000  of  44647        Average Loss=  4.867954247366197        Average Accuracy=  0.28741890862577757\n",
            "in iteration  35000  of  44647        Average Loss=  4.919612487516642        Average Accuracy=  0.28929627705112665\n",
            "in iteration  40000  of  44647        Average Loss=  5.004803813403468        Average Accuracy=  0.29325405812196487\n",
            "Validation Accuracy=  0.04229859842120831\n",
            "#################################### EPOCH number  3\n",
            "in iteration  5000  of  44647        Average Loss=  5.133356791171313        Average Accuracy=  0.27759936595482715\n",
            "in iteration  10000  of  44647        Average Loss=  4.810286668028237        Average Accuracy=  0.29649251120225245\n",
            "in iteration  15000  of  44647        Average Loss=  4.753962113591469        Average Accuracy=  0.30351026735820513\n",
            "in iteration  20000  of  44647        Average Loss=  4.9695561143822005        Average Accuracy=  0.2931589765317285\n",
            "in iteration  25000  of  44647        Average Loss=  4.916623405766367        Average Accuracy=  0.29404783126574596\n",
            "in iteration  30000  of  44647        Average Loss=  4.73655587788669        Average Accuracy=  0.2968052033802155\n",
            "in iteration  35000  of  44647        Average Loss=  4.794024353054029        Average Accuracy=  0.29748977838639296\n",
            "in iteration  40000  of  44647        Average Loss=  4.888221481726495        Average Accuracy=  0.3019106931613323\n",
            "Validation Accuracy=  0.04135588665747444\n",
            "#################################### EPOCH number  4\n",
            "in iteration  5000  of  44647        Average Loss=  5.058086299727034        Average Accuracy=  0.2832829821348286\n",
            "in iteration  10000  of  44647        Average Loss=  4.722097115759231        Average Accuracy=  0.30404016533776224\n",
            "in iteration  15000  of  44647        Average Loss=  4.662255907940628        Average Accuracy=  0.31087324955574586\n",
            "in iteration  20000  of  44647        Average Loss=  4.881686058128088        Average Accuracy=  0.2991302809918024\n",
            "in iteration  25000  of  44647        Average Loss=  4.829192764082863        Average Accuracy=  0.301665649085181\n",
            "in iteration  30000  of  44647        Average Loss=  4.6426376780243155        Average Accuracy=  0.3037383083634672\n",
            "in iteration  35000  of  44647        Average Loss=  4.71988627367377        Average Accuracy=  0.30296513690300564\n",
            "in iteration  40000  of  44647        Average Loss=  4.8074558405869885        Average Accuracy=  0.3057547863720434\n",
            "Validation Accuracy=  0.03803575525840439\n"
          ]
        }
      ],
      "source": [
        "loss = []\n",
        "acc = []\n",
        "acc_val = []\n",
        "epochs = 5\n",
        "for epoch in range(epochs):\n",
        "        try:\n",
        "          print(\"#################################### EPOCH number \",epoch)\n",
        "          plot_acc , plot_losses = trainIters(sentences[:train_size], encoder1, decoder1,\n",
        "                                            input_lang, output_lang , max_len, print_every=5000, learning_rate=0.001)\n",
        "          val = find_for_val(sentences[train_size:] ,encoder1 ,decoder1 ,input_lang ,max_len)\n",
        "          print(\"Validation Accuracy= \",val)\n",
        "          loss.append(plot_losses)\n",
        "          acc.append(plot_acc)\n",
        "          acc_val.append(val)\n",
        "\n",
        "        except KeyboardInterrupt:\n",
        "          break\n",
        "\n",
        "\n"
      ]
    },
    {
      "cell_type": "code",
      "execution_count": 39,
      "metadata": {
        "colab": {
          "base_uri": "https://localhost:8080/",
          "height": 336
        },
        "id": "OXua8BZ1IbXq",
        "outputId": "1cba8ef7-e568-4be7-8180-99e9fa30dded"
      },
      "outputs": [
        {
          "data": {
            "image/png": "[encoded data removed]",
            "text/plain": [
              "<Figure size 1080x360 with 3 Axes>"
            ]
          },
          "metadata": {
            "needs_background": "light"
          },
          "output_type": "display_data"
        }
      ],
      "source": [
        "import numpy as np\n",
        "import matplotlib.pyplot as plt\n",
        "loss11 = [np.mean(np.array(loss[i])) for i in range(len(loss))]\n",
        "acc11 = [np.mean(np.array(acc[i])) for i in range(len(acc))]\n",
        "acc_val11 = [np.mean(np.array(acc_val[i])) for i in range(len(acc_val))]\n",
        "X = [1,2,3,4,5] \n",
        "  \n",
        "# create figure\n",
        "fig = plt.figure(figsize=(15, 5))\n",
        "  \n",
        "# setting values to rows and column variables\n",
        "rows = 1\n",
        "columns = 3\n",
        "\n",
        "  \n",
        "# Adds a subplot at the 1st position\n",
        "fig.add_subplot(rows, columns, 1)\n",
        "  \n",
        "# showing image\n",
        "plt.plot(X, loss11)\n",
        "\n",
        "plt.title(\"Loss with LSTM\")\n",
        "  \n",
        "# Adds a subplot at the 2nd position\n",
        "fig.add_subplot(rows, columns, 2)\n",
        "  \n",
        "# showing image\n",
        "plt.plot(X, acc11)\n",
        "\n",
        "plt.title(\"Accuracy with LSTM\")\n",
        "  \n",
        "# Adds a subplot at the 3rd position\n",
        "fig.add_subplot(rows, columns, 3)\n",
        "  \n",
        "# showing image\n",
        "plt.plot(X, acc_val11)\n",
        "\n",
        "plt.title(\"Val Accuracy with LSTM\")\n",
        " \n",
        "plt.show()"
      ]
    },
    {
      "cell_type": "code",
      "execution_count": null,
      "metadata": {
        "colab": {
          "base_uri": "https://localhost:8080/"
        },
        "id": "_uItWN6_ng3B",
        "outputId": "ba863df1-51f1-4bb8-a6c5-eb8589885ecc"
      },
      "outputs": [
        {
          "name": "stdout",
          "output_type": "stream",
          "text": [
            "\n",
            "########################################\n",
            "\n",
            "first verse:\n",
            "چو شوید بعنبر شب تیره روی / بیفشاند این گیسوی مشکبوی\n",
            "generated seconde verse:\n",
            "چو بهرام خسرو چو گستهم / چو آمد به نزدیک خسرو رسید\n",
            "real seconde  verse:\n",
            "شما برنشینید با ساز جنگ / همه گرز و خنجر گرفته بچنگ\n",
            "\n",
            "########################################\n",
            "\n",
            "first verse:\n",
            "پر از درد ازان باره آمد فرود / همی داد تخت مهی را درود\n",
            "generated seconde verse:\n",
            "بدو گفت خسرو که ای شهریار / که از تخم با من به یزدان شناس\n",
            "real seconde  verse:\n",
            "همی گفت کی بینمت نیز باز / ایاروز شادی و آرام و ناز\n",
            "\n",
            "########################################\n",
            "\n",
            "first verse:\n",
            "چو جفت من آید به نزدیک تو / درخشان کند جان تاریک تو\n",
            "generated seconde verse:\n",
            "بدو گفت خسرو که ای شهریار / که از تخم با من به دل روزگار\n",
            "real seconde  verse:\n",
            "ز گفتار او هیچ گونه مگرد / چو گردی شود بخت را روی زرد\n",
            "\n",
            "########################################\n",
            "\n",
            "first verse:\n",
            "ز ترکان دو بهره بپای ستور / سپردند و شد بخت را آب شور\n",
            "generated seconde verse:\n",
            "چو خسرو بیامد ز خسرو سپاه / که بودند زان پس به راه\n",
            "real seconde  verse:\n",
            "هنوز آن سر تیغ دستان سام / همانا نیاسود اندر نیام\n",
            "\n",
            "########################################\n",
            "\n",
            "first verse:\n",
            "چنین گفت با آبکش شهریار / که امروز چندان نداریم کار\n",
            "generated seconde verse:\n",
            "چو بهرام را دید بهرام گرد / که از گرد آن لشکر اندر نبرد\n",
            "real seconde  verse:\n",
            "که ناچار ز ایدر بباید شدن / هم اینجا به نزد تو خواهم بدن\n",
            "\n",
            "########################################\n",
            "\n",
            "first verse:\n",
            "به کندی و تندی بما ننگرید / وزین مرز کس را به کس نشمرید\n",
            "generated seconde verse:\n",
            "چو خسرو بیامد ز خسرو به راه / که بودند با او به پیش سپاه\n",
            "real seconde  verse:\n",
            "به موبد چنین گفت بهرام گور / که یزدان دهد فر و دیهیم و زور\n",
            "\n",
            "########################################\n",
            "\n",
            "first verse:\n",
            "چوخشنود باشد ز من پهلوان / برآنم که جاوید مانم جوان\n",
            "generated seconde verse:\n",
            "بدو گفت خسرو که ای شهریار / که از روزگار این سخن\n",
            "real seconde  verse:\n",
            "چوبهرام بشنید گفتار اوی / میانجی همی دید کردار اوی\n",
            "\n",
            "########################################\n",
            "\n",
            "first verse:\n",
            "بدو گفت رویین دژ اکنون کجاست / که آن مرز ازین بوم ایران جداست\n",
            "generated seconde verse:\n",
            "چو خسرو بیامد ز خسرو به راه / که بودند با او به پیش سپاه\n",
            "real seconde  verse:\n",
            "بدو چند راهست و فرسنگ چند / کدام آنک ازو هست بیم و گزند\n",
            "\n",
            "########################################\n",
            "\n",
            "first verse:\n",
            "ولی عهد من او بود در جهان / هم انکس کزو زاید اندر نهان\n",
            "generated seconde verse:\n",
            "چو بشنید خسرو که خسرو به راه / که با او به پیش سپاه آمدش\n",
            "real seconde  verse:\n",
            "اگر دختر آید برش گر پسر / ورا باشد این تاج و تخت پدر\n",
            "\n",
            "########################################\n",
            "\n",
            "first verse:\n",
            "ز پاسخ بر آشفت و شد چون پلنگ / ز آهن تنوری بفرمود تنگ\n",
            "generated seconde verse:\n",
            "چو خسرو بیامد ز خسرو رسید / که از وی اندر گرفت ناپدید\n",
            "real seconde  verse:\n",
            "ز پیکان وز میخ گرد اندرش / هم از بند آهن نهفته سرش\n"
          ]
        }
      ],
      "source": [
        "random_verse = random.choices(range(len(sentences)), k=10)\n",
        "for i, index in enumerate(random_verse):\n",
        "    predicted = evaluate(input_lang , encoder1, decoder1, sentences[index][0], max_len)\n",
        "    print('\\n########################################\\n')\n",
        "    print('input verse:')\n",
        "    print(sentences[index][0])\n",
        "    print('output seconde verse:')\n",
        "    print(\" \".join(predicted[:-1]))\n",
        "    print('real seconde  verse:')\n",
        "    print(sentences[index][1])"
      ]
    },
    {
      "cell_type": "markdown",
      "metadata": {
        "id": "YWJAJRG3q-jt"
      },
      "source": [
        "### Encoder & Deccoder for LSTM"
      ]
    },
    {
      "cell_type": "code",
      "execution_count": null,
      "metadata": {
        "id": "WuAAwGmQo-uG"
      },
      "outputs": [],
      "source": [
        "class EncoderRNNLSTM(nn.Module):\n",
        "    def __init__(self, input_size, hidden_size):\n",
        "        super().__init__()\n",
        "        self.input_size = input_size\n",
        "        self.hidden_size = hidden_size\n",
        "        self.embedding = nn.Embedding(input_size, hidden_size)\n",
        "        self.lstm = nn.LSTM(hidden_size, hidden_size)\n",
        "\n",
        "    def forward(self, x, h):\n",
        "        embedded = self.embedding(x).view(1, 1, -1)\n",
        "        output, hidden = self.lstm(embedded, h)\n",
        "        return output, hidden\n",
        "\n",
        "    def initHidden(self):\n",
        "        return torch.zeros(1, 1, self.hidden_size, device=device)\n",
        "class DecoderRNNLSTM(nn.Module):\n",
        "    def __init__(self, hidden_size, output_size):\n",
        "        super().__init__()\n",
        "        self.hidden_size = hidden_size\n",
        "        self.output_size = output_size\n",
        "        self.embedding = nn.Embedding(output_size, hidden_size)\n",
        "        self.lstm = nn.LSTM(hidden_size, hidden_size)\n",
        "        self.out = nn.Linear(hidden_size, output_size)\n",
        "        self.softmax = nn.LogSoftmax(dim=1)\n",
        "\n",
        "    def forward(self, x, h):\n",
        "        output = self.embedding(x).view(1, 1, -1)\n",
        "        output = F.relu(output)\n",
        "        output, hidden = self.lstm(output, h)\n",
        "        output = self.softmax(self.out(output[0]))\n",
        "        return output, hidden\n",
        "\n",
        "    def initHidden(self):\n",
        "        return torch.zeros(1, 1, self.hidden_size, device=device)"
      ]
    },
    {
      "cell_type": "markdown",
      "metadata": {
        "id": "vAkTeNNerCcz"
      },
      "source": [
        "### Training for LSTM"
      ]
    },
    {
      "cell_type": "code",
      "execution_count": null,
      "metadata": {
        "id": "KfnIM2eupiZ8"
      },
      "outputs": [],
      "source": [
        "hidden_size = 100\n",
        "encoder2 = EncoderRNNLSTM(input_lang.n_words, hidden_size).to(device)\n",
        "decoder2 = DecoderRNNLSTM(hidden_size, output_lang.n_words).to(device)"
      ]
    },
    {
      "cell_type": "code",
      "execution_count": 19,
      "metadata": {
        "colab": {
          "base_uri": "https://localhost:8080/"
        },
        "id": "FxWmM2Z5pm8D",
        "outputId": "b83865f9-0252-4beb-d8dc-b145fbe7d2a3"
      },
      "outputs": [
        {
          "name": "stdout",
          "output_type": "stream",
          "text": [
            "#################################### EPOCH number  0\n",
            "in iteration  5000  of  44647        Average Loss=  6.172221466859733        Average Accuracy=  0.18094372697048366\n",
            "in iteration  10000  of  44647        Average Loss=  5.615169421793191        Average Accuracy=  0.20784227425996782\n",
            "in iteration  15000  of  44647        Average Loss=  5.5279204402836735        Average Accuracy=  0.22472460633621794\n",
            "in iteration  20000  of  44647        Average Loss=  5.656456116579537        Average Accuracy=  0.22786762330548818\n",
            "in iteration  25000  of  44647        Average Loss=  5.672476268946156        Average Accuracy=  0.23173744438825958\n",
            "in iteration  30000  of  44647        Average Loss=  5.509981532434537        Average Accuracy=  0.23475464600329388\n",
            "in iteration  35000  of  44647        Average Loss=  5.51948246977646        Average Accuracy=  0.2386796224793468\n",
            "in iteration  40000  of  44647        Average Loss=  5.616594952031381        Average Accuracy=  0.2464458932381724\n",
            "Validation Accuracy=  0.04135141357490302\n",
            "#################################### EPOCH number  1\n",
            "in iteration  5000  of  44647        Average Loss=  5.547148231760671        Average Accuracy=  0.23823151005857193\n",
            "in iteration  10000  of  44647        Average Loss=  5.2379816669306365        Average Accuracy=  0.2568897876839401\n",
            "in iteration  15000  of  44647        Average Loss=  5.168512990006968        Average Accuracy=  0.26161018954987547\n",
            "in iteration  20000  of  44647        Average Loss=  5.398973878240513        Average Accuracy=  0.2575622602028197\n",
            "in iteration  25000  of  44647        Average Loss=  5.4041633898397015        Average Accuracy=  0.2569300100518718\n",
            "in iteration  30000  of  44647        Average Loss=  5.211714757753355        Average Accuracy=  0.26078507795180833\n",
            "in iteration  35000  of  44647        Average Loss=  5.205092952951309        Average Accuracy=  0.2630999953486529\n",
            "in iteration  40000  of  44647        Average Loss=  5.333633536703213        Average Accuracy=  0.2676062130078431\n",
            "Validation Accuracy=  0.039608891897922514\n",
            "#################################### EPOCH number  2\n",
            "in iteration  5000  of  44647        Average Loss=  5.359837265842412        Average Accuracy=  0.25375142120435823\n",
            "in iteration  10000  of  44647        Average Loss=  5.041167388695769        Average Accuracy=  0.2722833026141422\n",
            "in iteration  15000  of  44647        Average Loss=  4.98270098662108        Average Accuracy=  0.278152562306978\n",
            "in iteration  20000  of  44647        Average Loss=  5.197964765970911        Average Accuracy=  0.27020780982949233\n",
            "in iteration  25000  of  44647        Average Loss=  5.208993706235636        Average Accuracy=  0.26911675272870006\n",
            "in iteration  30000  of  44647        Average Loss=  4.993458051407726        Average Accuracy=  0.2730062293038958\n",
            "in iteration  35000  of  44647        Average Loss=  5.00924508761139        Average Accuracy=  0.2731460425539413\n",
            "in iteration  40000  of  44647        Average Loss=  5.14231924311552        Average Accuracy=  0.27759980588984917\n",
            "Validation Accuracy=  0.03433508870446404\n",
            "#################################### EPOCH number  3\n",
            "in iteration  5000  of  44647        Average Loss=  5.195788901652723        Average Accuracy=  0.26356615869339195\n",
            "in iteration  10000  of  44647        Average Loss=  4.895952888471508        Average Accuracy=  0.28101549521772035\n",
            "in iteration  15000  of  44647        Average Loss=  4.835317016762121        Average Accuracy=  0.28660843990117596\n",
            "in iteration  20000  of  44647        Average Loss=  5.105084567398379        Average Accuracy=  0.27862414502508487\n",
            "in iteration  25000  of  44647        Average Loss=  5.079590502993858        Average Accuracy=  0.27653377200886947\n",
            "in iteration  30000  of  44647        Average Loss=  4.887108507524692        Average Accuracy=  0.28135185367092924\n",
            "in iteration  35000  of  44647        Average Loss=  4.920695649156085        Average Accuracy=  0.28045657684249486\n",
            "in iteration  40000  of  44647        Average Loss=  5.048026656008724        Average Accuracy=  0.2850979532610541\n",
            "Validation Accuracy=  0.03493851988047872\n",
            "#################################### EPOCH number  4\n",
            "in iteration  5000  of  44647        Average Loss=  5.103027956521586        Average Accuracy=  0.2684241585616008\n",
            "in iteration  10000  of  44647        Average Loss=  4.8036260000073545        Average Accuracy=  0.28609180866261746\n",
            "in iteration  15000  of  44647        Average Loss=  4.751688447707952        Average Accuracy=  0.292658488345164\n",
            "in iteration  20000  of  44647        Average Loss=  4.991638759872913        Average Accuracy=  0.28379188736444555\n",
            "in iteration  25000  of  44647        Average Loss=  4.977453857073667        Average Accuracy=  0.2831255889337757\n",
            "in iteration  30000  of  44647        Average Loss=  4.807309445270935        Average Accuracy=  0.2860900753426183\n",
            "in iteration  35000  of  44647        Average Loss=  4.853118990515156        Average Accuracy=  0.2848172481388625\n",
            "in iteration  40000  of  44647        Average Loss=  4.962392053194166        Average Accuracy=  0.28878179192668857\n",
            "Validation Accuracy=  0.033445750657798964\n"
          ]
        }
      ],
      "source": [
        "loss2 = []\n",
        "acc2 = []\n",
        "acc_val2 = []\n",
        "epochs = 5\n",
        "for epoch in range(epochs):\n",
        "    try:\n",
        "        print(\"#################################### EPOCH number \",epoch)\n",
        "        plot_acc , plot_losses = trainIters(sentences[:train_size], encoder2, decoder2, input_lang, output_lang , max_len, print_every=5000, learning_rate=0.001,mode='LSTM')\n",
        "        val = find_for_val(sentences[train_size:] ,encoder2 ,decoder2 ,input_lang ,max_len , mode='LSTM')\n",
        "        print(\"Validation Accuracy= \",val)\n",
        "        loss2.append(plot_losses)\n",
        "        acc2.append(plot_acc)\n",
        "        acc_val2.append(val)\n",
        "    except KeyboardInterrupt:\n",
        "        break"
      ]
    },
    {
      "cell_type": "code",
      "execution_count": 38,
      "metadata": {
        "colab": {
          "base_uri": "https://localhost:8080/",
          "height": 336
        },
        "id": "6B3ocjPnHuTn",
        "outputId": "79db5599-b70d-4fa2-eeb1-7a093c358d78"
      },
      "outputs": [
        {
          "data": {
            "image/png": "[encoded data removed]",
            "text/plain": [
              "<Figure size 1080x360 with 3 Axes>"
            ]
          },
          "metadata": {
            "needs_background": "light"
          },
          "output_type": "display_data"
        }
      ],
      "source": [
        "import numpy as np\n",
        "import matplotlib.pyplot as plt\n",
        "loss22 = [np.mean(np.array(loss2[i])) for i in range(len(loss2))]\n",
        "acc22 = [np.mean(np.array(acc2[i])) for i in range(len(acc2))]\n",
        "acc_val22 = [np.mean(np.array(acc_val2[i])) for i in range(len(acc_val2))]\n",
        "X = [1,2,3,4,5] \n",
        "\n",
        "# create figure\n",
        "fig = plt.figure(figsize=(15, 5))\n",
        "  \n",
        "# setting values to rows and column variables\n",
        "rows = 1\n",
        "columns = 3\n",
        "\n",
        "  \n",
        "# Adds a subplot at the 1st position\n",
        "fig.add_subplot(rows, columns, 1)\n",
        "  \n",
        "# showing image\n",
        "plt.plot(X, loss22)\n",
        "\n",
        "plt.title(\"Loss with LSTM\")\n",
        "  \n",
        "# Adds a subplot at the 2nd position\n",
        "fig.add_subplot(rows, columns, 2)\n",
        "  \n",
        "# showing image\n",
        "plt.plot(X, acc22)\n",
        "\n",
        "plt.title(\"Accuracy with LSTM\")\n",
        "  \n",
        "# Adds a subplot at the 3rd position\n",
        "fig.add_subplot(rows, columns, 3)\n",
        "  \n",
        "# showing image\n",
        "plt.plot(X, acc_val22)\n",
        "\n",
        "plt.title(\"Val Accuracy with LSTM\")\n",
        " \n",
        "plt.show()"
      ]
    },
    {
      "cell_type": "code",
      "execution_count": 41,
      "metadata": {
        "colab": {
          "base_uri": "https://localhost:8080/"
        },
        "id": "CYwiOpvyXVra",
        "outputId": "842048cd-aa40-4805-d8a6-745598cbcdce"
      },
      "outputs": [
        {
          "name": "stdout",
          "output_type": "stream",
          "text": [
            "\n",
            "########################################\n",
            "\n",
            "input verse:\n",
            "نویسنده پردخته شد ز آفرین / نهاد از بر نامه خسرو نگین\n",
            "output seconde verse:\n",
            "چو خسرو چنین گفت بهرام را / که ای نامداران و با سپاه\n",
            "real seconde  verse:\n",
            "بفرمود تا خلعت آراستند / ستام و کمرها بپیراستند\n",
            "\n",
            "########################################\n",
            "\n",
            "input verse:\n",
            "چنین جامه پوشید کز شرم شاه / نیارست کردن به رویش نگاه\n",
            "output seconde verse:\n",
            "چو بهرام خسرو ز لشکر نگفت / که از نامداران و با سپاه جفت\n",
            "real seconde  verse:\n",
            "برادر گر از تو بپوشید روی / ز شرم توبود آن بهانه مجوی\n",
            "\n",
            "########################################\n",
            "\n",
            "input verse:\n",
            "چو لهاک جنگی و فرشیدورد / ابا سی هزار از دلیران مرد\n",
            "output seconde verse:\n",
            "چو خسرو چنین گفت بهرام را / که ای نامداران و با سپاه\n",
            "real seconde  verse:\n",
            "گرفتند بر میمنه جایگاه / جهان سربسر گشت ز آهن سیاه\n",
            "\n",
            "########################################\n",
            "\n",
            "input verse:\n",
            "یکی پاسخ نامه بنوشت و گفت / که با جان پاکان خرد باد جفت\n",
            "output seconde verse:\n",
            "چو خسرو چنین گفت خسرو که ای / که ای نامداران و با فرهی\n",
            "real seconde  verse:\n",
            "بدان بازگشتیم همداستان / که گفت این فرستادهٔ راستان\n",
            "\n",
            "########################################\n",
            "\n",
            "input verse:\n",
            "زمین کوه تا کوه جوشن وران / برفتند با گرزهای گران\n",
            "output seconde verse:\n",
            "چو خسرو ز لشکر بیامد رسید / همی کرد زان کار خسرو بدید\n",
            "real seconde  verse:\n",
            "نبد کوه پیدا ز ریگ و ز شخ / ز دریا به دریا کشیدند نخ\n",
            "\n",
            "########################################\n",
            "\n",
            "input verse:\n",
            "به پیری بسی دیدم آوردگاه / بسی بر زمین پست کردم سپاه\n",
            "output seconde verse:\n",
            "چو خسرو چنین گفت خسرو که ای / که ای نامداران و با فرهی\n",
            "real seconde  verse:\n",
            "تپه شد بسی دیو در جنگ من / ندیدم بدان سو که بودم شکن\n",
            "\n",
            "########################################\n",
            "\n",
            "input verse:\n",
            "ز پیروزی لشکر غاتفر / همی برفرازد به خورشید سر\n",
            "output seconde verse:\n",
            "چو بهرام شد پیش بهرام گفت / که از تخت شاهی بدین بارگاه\n",
            "real seconde  verse:\n",
            "سزد گر نباشیم همداستان / که خاقان نخواند چنین داستان\n",
            "\n",
            "########################################\n",
            "\n",
            "input verse:\n",
            "سپهبد چو بشنید زو داستان / بران داستان گشت هم داستان\n",
            "output seconde verse:\n",
            "چو خسرو ز لشکر بیامد رسید / که از نامداران پرخاشجوی\n",
            "real seconde  verse:\n",
            "سیاوش از ایرانیان هفت مرد / گزین کرد شایستهٔ کارکرد\n",
            "\n",
            "########################################\n",
            "\n",
            "input verse:\n",
            "سکندر چو نومید گشت از جهان / بیفگند رایی میان مهان\n",
            "output seconde verse:\n",
            "چو خسرو چنین گفت خسرو که ای / که ای نامداران و با فرهی\n",
            "real seconde  verse:\n",
            "بدان تا نگیرد کس از روم یاد / بماند مران کشور آباد و شاد\n",
            "\n",
            "########################################\n",
            "\n",
            "input verse:\n",
            "بدو داد و گفت این ز من یادگار / همی دار تا خودکی آید بکار\n",
            "output seconde verse:\n",
            "چو خسرو چنین گفت خسرو که ای / که ای نامداران و با فرهی\n",
            "real seconde  verse:\n",
            "چو طوس سپهبد پذیرد خرام / بباشیم روشن دل و شادکام\n"
          ]
        }
      ],
      "source": [
        "random_verse = random.choices(range(len(sentences)), k=10)\n",
        "for i, index in enumerate(random_verse):\n",
        "    predicted = evaluate(input_lang , encoder2, decoder2, sentences[index][0], max_len , mode='LSTM')\n",
        "    print('\\n########################################\\n')\n",
        "    print('input verse:')\n",
        "    print(sentences[index][0])\n",
        "    print('output seconde verse:')\n",
        "    print(\" \".join(predicted[:-1]))\n",
        "    print('real seconde  verse:')\n",
        "    print(sentences[index][1])\n",
        "    "
      ]
    }
  ],
  "metadata": {
    "accelerator": "GPU",
    "colab": {
      "provenance": []
    },
    "gpuClass": "standard",
    "kernelspec": {
      "display_name": "Python 3",
      "name": "python3"
    },
    "language_info": {
      "name": "python"
    }
  },
  "nbformat": 4,
  "nbformat_minor": 0
}
